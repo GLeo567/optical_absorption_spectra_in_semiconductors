{
 "cells": [
  {
   "attachments": {},
   "cell_type": "markdown",
   "metadata": {},
   "source": [
    "# ***Optical Absorption Spectra in Semiconductors***  \n",
    "  \n",
    "The transmittance of two samples of CdS with thicknesses of $60$ $nm$ and $110$ $nm$ were calculated with an spectrophotometer to calculate the absorption coefficient and the energy gap by the two samples method and the derivative method.  \n",
    "  \n",
    "The measurements were made from a wavelength of $380$ $nm$ to $1100$ $nm$. As the two samples of CdS were grown over glass substrate, firstly the light intensity of this sample was measured and will be called *reference intensity* $I_{0}$. Later, the same process was repeated with the CdS samples.  \n",
    "  \n",
    "***Note:*** All the measurements were processed by the $TracQ_{BASIC}$ software. With this software, the transmittance of both samples will be calculated, it will divide the light intensity that passes through the CdS sample by $I_{0}$."
   ]
  },
  {
   "attachments": {},
   "cell_type": "markdown",
   "metadata": {},
   "source": [
    "## **Importing libraries**"
   ]
  },
  {
   "cell_type": "code",
   "execution_count": 1,
   "metadata": {},
   "outputs": [],
   "source": [
    "import pandas as pd\n",
    "import numpy as np\n",
    "import matplotlib.pyplot as plt\n",
    "import seaborn as sns\n",
    "import plotly.express as px\n",
    "from derivative import dxdt\n",
    "from scipy import constants\n",
    "from scipy.stats import linregress"
   ]
  },
  {
   "attachments": {},
   "cell_type": "markdown",
   "metadata": {},
   "source": [
    "## **Loading data**"
   ]
  },
  {
   "attachments": {},
   "cell_type": "markdown",
   "metadata": {},
   "source": [
    "The measurements of both samples are in `Práctica No 2.txt`. To make their analysis easier, the data was separated into 2 files: `60nmcds.txt` for the sample of $60$ $nm$ and `110nmcds.txt` for the sample of $110$ $nm$ and then converted in one dataframe."
   ]
  },
  {
   "cell_type": "code",
   "execution_count": 2,
   "metadata": {},
   "outputs": [
    {
     "data": {
      "text/html": [
       "<div>\n",
       "<style scoped>\n",
       "    .dataframe tbody tr th:only-of-type {\n",
       "        vertical-align: middle;\n",
       "    }\n",
       "\n",
       "    .dataframe tbody tr th {\n",
       "        vertical-align: top;\n",
       "    }\n",
       "\n",
       "    .dataframe thead th {\n",
       "        text-align: right;\n",
       "    }\n",
       "</style>\n",
       "<table border=\"1\" class=\"dataframe\">\n",
       "  <thead>\n",
       "    <tr style=\"text-align: right;\">\n",
       "      <th></th>\n",
       "      <th>Wavelength (nm)</th>\n",
       "      <th>Transmittance (%)</th>\n",
       "      <th>Sample</th>\n",
       "    </tr>\n",
       "  </thead>\n",
       "  <tbody>\n",
       "    <tr>\n",
       "      <th>0</th>\n",
       "      <td>380.016</td>\n",
       "      <td>24.30456</td>\n",
       "      <td>60 nm</td>\n",
       "    </tr>\n",
       "    <tr>\n",
       "      <th>1</th>\n",
       "      <td>382.007</td>\n",
       "      <td>24.98066</td>\n",
       "      <td>60 nm</td>\n",
       "    </tr>\n",
       "    <tr>\n",
       "      <th>2</th>\n",
       "      <td>383.998</td>\n",
       "      <td>25.62613</td>\n",
       "      <td>60 nm</td>\n",
       "    </tr>\n",
       "    <tr>\n",
       "      <th>3</th>\n",
       "      <td>385.988</td>\n",
       "      <td>26.22389</td>\n",
       "      <td>60 nm</td>\n",
       "    </tr>\n",
       "    <tr>\n",
       "      <th>4</th>\n",
       "      <td>388.014</td>\n",
       "      <td>26.80113</td>\n",
       "      <td>60 nm</td>\n",
       "    </tr>\n",
       "    <tr>\n",
       "      <th>...</th>\n",
       "      <td>...</td>\n",
       "      <td>...</td>\n",
       "      <td>...</td>\n",
       "    </tr>\n",
       "    <tr>\n",
       "      <th>356</th>\n",
       "      <td>1092.006</td>\n",
       "      <td>76.51353</td>\n",
       "      <td>60 nm</td>\n",
       "    </tr>\n",
       "    <tr>\n",
       "      <th>357</th>\n",
       "      <td>1094.003</td>\n",
       "      <td>76.57490</td>\n",
       "      <td>60 nm</td>\n",
       "    </tr>\n",
       "    <tr>\n",
       "      <th>358</th>\n",
       "      <td>1095.998</td>\n",
       "      <td>76.60664</td>\n",
       "      <td>60 nm</td>\n",
       "    </tr>\n",
       "    <tr>\n",
       "      <th>359</th>\n",
       "      <td>1097.989</td>\n",
       "      <td>76.52434</td>\n",
       "      <td>60 nm</td>\n",
       "    </tr>\n",
       "    <tr>\n",
       "      <th>360</th>\n",
       "      <td>1100.006</td>\n",
       "      <td>76.46180</td>\n",
       "      <td>60 nm</td>\n",
       "    </tr>\n",
       "  </tbody>\n",
       "</table>\n",
       "<p>361 rows × 3 columns</p>\n",
       "</div>"
      ],
      "text/plain": [
       "     Wavelength (nm)  Transmittance (%) Sample\n",
       "0            380.016           24.30456  60 nm\n",
       "1            382.007           24.98066  60 nm\n",
       "2            383.998           25.62613  60 nm\n",
       "3            385.988           26.22389  60 nm\n",
       "4            388.014           26.80113  60 nm\n",
       "..               ...                ...    ...\n",
       "356         1092.006           76.51353  60 nm\n",
       "357         1094.003           76.57490  60 nm\n",
       "358         1095.998           76.60664  60 nm\n",
       "359         1097.989           76.52434  60 nm\n",
       "360         1100.006           76.46180  60 nm\n",
       "\n",
       "[361 rows x 3 columns]"
      ]
     },
     "execution_count": 2,
     "metadata": {},
     "output_type": "execute_result"
    }
   ],
   "source": [
    "df_60 = pd.read_csv(\n",
    "    \"60nmcds.txt\",\n",
    "    sep=\"\\t\", header=None,\n",
    "    names=[\"Wavelength (nm)\", \"Transmittance (%)\"],\n",
    "    skiprows=2\n",
    ")\n",
    "\n",
    "df_60.loc[:, \"Sample\"] = \"60 nm\"\n",
    "df_60"
   ]
  },
  {
   "cell_type": "code",
   "execution_count": 3,
   "metadata": {},
   "outputs": [
    {
     "data": {
      "text/html": [
       "<div>\n",
       "<style scoped>\n",
       "    .dataframe tbody tr th:only-of-type {\n",
       "        vertical-align: middle;\n",
       "    }\n",
       "\n",
       "    .dataframe tbody tr th {\n",
       "        vertical-align: top;\n",
       "    }\n",
       "\n",
       "    .dataframe thead th {\n",
       "        text-align: right;\n",
       "    }\n",
       "</style>\n",
       "<table border=\"1\" class=\"dataframe\">\n",
       "  <thead>\n",
       "    <tr style=\"text-align: right;\">\n",
       "      <th></th>\n",
       "      <th>Wavelength (nm)</th>\n",
       "      <th>Transmittance (%)</th>\n",
       "      <th>Sample</th>\n",
       "    </tr>\n",
       "  </thead>\n",
       "  <tbody>\n",
       "    <tr>\n",
       "      <th>0</th>\n",
       "      <td>380.016</td>\n",
       "      <td>14.55002</td>\n",
       "      <td>110 nm</td>\n",
       "    </tr>\n",
       "    <tr>\n",
       "      <th>1</th>\n",
       "      <td>382.007</td>\n",
       "      <td>15.02878</td>\n",
       "      <td>110 nm</td>\n",
       "    </tr>\n",
       "    <tr>\n",
       "      <th>2</th>\n",
       "      <td>383.998</td>\n",
       "      <td>15.49435</td>\n",
       "      <td>110 nm</td>\n",
       "    </tr>\n",
       "    <tr>\n",
       "      <th>3</th>\n",
       "      <td>385.988</td>\n",
       "      <td>15.93374</td>\n",
       "      <td>110 nm</td>\n",
       "    </tr>\n",
       "    <tr>\n",
       "      <th>4</th>\n",
       "      <td>388.014</td>\n",
       "      <td>16.35576</td>\n",
       "      <td>110 nm</td>\n",
       "    </tr>\n",
       "    <tr>\n",
       "      <th>...</th>\n",
       "      <td>...</td>\n",
       "      <td>...</td>\n",
       "      <td>...</td>\n",
       "    </tr>\n",
       "    <tr>\n",
       "      <th>356</th>\n",
       "      <td>1092.006</td>\n",
       "      <td>72.30723</td>\n",
       "      <td>110 nm</td>\n",
       "    </tr>\n",
       "    <tr>\n",
       "      <th>357</th>\n",
       "      <td>1094.003</td>\n",
       "      <td>72.34763</td>\n",
       "      <td>110 nm</td>\n",
       "    </tr>\n",
       "    <tr>\n",
       "      <th>358</th>\n",
       "      <td>1095.998</td>\n",
       "      <td>72.40607</td>\n",
       "      <td>110 nm</td>\n",
       "    </tr>\n",
       "    <tr>\n",
       "      <th>359</th>\n",
       "      <td>1097.989</td>\n",
       "      <td>72.33378</td>\n",
       "      <td>110 nm</td>\n",
       "    </tr>\n",
       "    <tr>\n",
       "      <th>360</th>\n",
       "      <td>1100.006</td>\n",
       "      <td>72.31930</td>\n",
       "      <td>110 nm</td>\n",
       "    </tr>\n",
       "  </tbody>\n",
       "</table>\n",
       "<p>361 rows × 3 columns</p>\n",
       "</div>"
      ],
      "text/plain": [
       "     Wavelength (nm)  Transmittance (%)  Sample\n",
       "0            380.016           14.55002  110 nm\n",
       "1            382.007           15.02878  110 nm\n",
       "2            383.998           15.49435  110 nm\n",
       "3            385.988           15.93374  110 nm\n",
       "4            388.014           16.35576  110 nm\n",
       "..               ...                ...     ...\n",
       "356         1092.006           72.30723  110 nm\n",
       "357         1094.003           72.34763  110 nm\n",
       "358         1095.998           72.40607  110 nm\n",
       "359         1097.989           72.33378  110 nm\n",
       "360         1100.006           72.31930  110 nm\n",
       "\n",
       "[361 rows x 3 columns]"
      ]
     },
     "execution_count": 3,
     "metadata": {},
     "output_type": "execute_result"
    }
   ],
   "source": [
    "df_110 = pd.read_csv(\n",
    "    \"110nmcds.txt\", \n",
    "    sep=\"\\t\", header=None,\n",
    "    names=[\"Wavelength (nm)\", \"Transmittance (%)\"],\n",
    "    skiprows=2\n",
    ")\n",
    "\n",
    "df_110.loc[:, \"Sample\"] = \"110 nm\"\n",
    "df_110"
   ]
  },
  {
   "cell_type": "code",
   "execution_count": 4,
   "metadata": {},
   "outputs": [
    {
     "data": {
      "text/html": [
       "<div>\n",
       "<style scoped>\n",
       "    .dataframe tbody tr th:only-of-type {\n",
       "        vertical-align: middle;\n",
       "    }\n",
       "\n",
       "    .dataframe tbody tr th {\n",
       "        vertical-align: top;\n",
       "    }\n",
       "\n",
       "    .dataframe thead th {\n",
       "        text-align: right;\n",
       "    }\n",
       "</style>\n",
       "<table border=\"1\" class=\"dataframe\">\n",
       "  <thead>\n",
       "    <tr style=\"text-align: right;\">\n",
       "      <th></th>\n",
       "      <th>Wavelength (nm)</th>\n",
       "      <th>Transmittance (%)</th>\n",
       "      <th>Sample</th>\n",
       "    </tr>\n",
       "  </thead>\n",
       "  <tbody>\n",
       "    <tr>\n",
       "      <th>0</th>\n",
       "      <td>380.016</td>\n",
       "      <td>24.30456</td>\n",
       "      <td>60 nm</td>\n",
       "    </tr>\n",
       "    <tr>\n",
       "      <th>1</th>\n",
       "      <td>382.007</td>\n",
       "      <td>24.98066</td>\n",
       "      <td>60 nm</td>\n",
       "    </tr>\n",
       "    <tr>\n",
       "      <th>2</th>\n",
       "      <td>383.998</td>\n",
       "      <td>25.62613</td>\n",
       "      <td>60 nm</td>\n",
       "    </tr>\n",
       "    <tr>\n",
       "      <th>3</th>\n",
       "      <td>385.988</td>\n",
       "      <td>26.22389</td>\n",
       "      <td>60 nm</td>\n",
       "    </tr>\n",
       "    <tr>\n",
       "      <th>4</th>\n",
       "      <td>388.014</td>\n",
       "      <td>26.80113</td>\n",
       "      <td>60 nm</td>\n",
       "    </tr>\n",
       "    <tr>\n",
       "      <th>...</th>\n",
       "      <td>...</td>\n",
       "      <td>...</td>\n",
       "      <td>...</td>\n",
       "    </tr>\n",
       "    <tr>\n",
       "      <th>356</th>\n",
       "      <td>1092.006</td>\n",
       "      <td>72.30723</td>\n",
       "      <td>110 nm</td>\n",
       "    </tr>\n",
       "    <tr>\n",
       "      <th>357</th>\n",
       "      <td>1094.003</td>\n",
       "      <td>72.34763</td>\n",
       "      <td>110 nm</td>\n",
       "    </tr>\n",
       "    <tr>\n",
       "      <th>358</th>\n",
       "      <td>1095.998</td>\n",
       "      <td>72.40607</td>\n",
       "      <td>110 nm</td>\n",
       "    </tr>\n",
       "    <tr>\n",
       "      <th>359</th>\n",
       "      <td>1097.989</td>\n",
       "      <td>72.33378</td>\n",
       "      <td>110 nm</td>\n",
       "    </tr>\n",
       "    <tr>\n",
       "      <th>360</th>\n",
       "      <td>1100.006</td>\n",
       "      <td>72.31930</td>\n",
       "      <td>110 nm</td>\n",
       "    </tr>\n",
       "  </tbody>\n",
       "</table>\n",
       "<p>722 rows × 3 columns</p>\n",
       "</div>"
      ],
      "text/plain": [
       "     Wavelength (nm)  Transmittance (%)  Sample\n",
       "0            380.016           24.30456   60 nm\n",
       "1            382.007           24.98066   60 nm\n",
       "2            383.998           25.62613   60 nm\n",
       "3            385.988           26.22389   60 nm\n",
       "4            388.014           26.80113   60 nm\n",
       "..               ...                ...     ...\n",
       "356         1092.006           72.30723  110 nm\n",
       "357         1094.003           72.34763  110 nm\n",
       "358         1095.998           72.40607  110 nm\n",
       "359         1097.989           72.33378  110 nm\n",
       "360         1100.006           72.31930  110 nm\n",
       "\n",
       "[722 rows x 3 columns]"
      ]
     },
     "execution_count": 4,
     "metadata": {},
     "output_type": "execute_result"
    }
   ],
   "source": [
    "df = pd.concat([df_60, df_110], ignore_index=False)\n",
    "df"
   ]
  },
  {
   "cell_type": "code",
   "execution_count": 5,
   "metadata": {},
   "outputs": [
    {
     "data": {
      "text/plain": [
       "Wavelength (nm)      float64\n",
       "Transmittance (%)    float64\n",
       "Sample                object\n",
       "dtype: object"
      ]
     },
     "execution_count": 5,
     "metadata": {},
     "output_type": "execute_result"
    }
   ],
   "source": [
    "df.dtypes"
   ]
  },
  {
   "attachments": {},
   "cell_type": "markdown",
   "metadata": {},
   "source": [
    "## **Transmittance Analysis**"
   ]
  },
  {
   "attachments": {},
   "cell_type": "markdown",
   "metadata": {},
   "source": [
    "### Using pandas to find maximum transmittances"
   ]
  },
  {
   "attachments": {},
   "cell_type": "markdown",
   "metadata": {},
   "source": [
    "The transmittance graphs are obtained in function of the wavelength for two samples of CdS of $60$ $nm$ and $110$ $nm$.  \n",
    "  \n",
    "In figure 1 the transmittance of both samples are shown."
   ]
  },
  {
   "cell_type": "code",
   "execution_count": 6,
   "metadata": {},
   "outputs": [
    {
     "data": {
      "image/png": "[encoded data removed]",
      "text/plain": [
       "<Figure size 1000x1000 with 1 Axes>"
      ]
     },
     "metadata": {},
     "output_type": "display_data"
    }
   ],
   "source": [
    "fig_1, ax = plt.subplots(figsize=(10, 10))\n",
    "trans = sns.lineplot(\n",
    "    data=df,\n",
    "    x=df[\"Wavelength (nm)\"],\n",
    "    y=df[\"Transmittance (%)\"],\n",
    "    hue=\"Sample\"\n",
    ")\n",
    "\n",
    "plt.xlim(350, 1200)\n",
    "plt.ylim(0, 90)\n",
    "plt.title(\"Fig. 1: Transmittance of two CdS samples of different thickness (Seaborn)\")\n",
    "plt.show()"
   ]
  },
  {
   "attachments": {},
   "cell_type": "markdown",
   "metadata": {},
   "source": [
    "Let's find the maximum transmittance for each CdS sample."
   ]
  },
  {
   "attachments": {},
   "cell_type": "markdown",
   "metadata": {},
   "source": [
    "For the sample with thickness of $60$ $nm$:"
   ]
  },
  {
   "cell_type": "code",
   "execution_count": 7,
   "metadata": {},
   "outputs": [
    {
     "data": {
      "text/html": [
       "<div>\n",
       "<style scoped>\n",
       "    .dataframe tbody tr th:only-of-type {\n",
       "        vertical-align: middle;\n",
       "    }\n",
       "\n",
       "    .dataframe tbody tr th {\n",
       "        vertical-align: top;\n",
       "    }\n",
       "\n",
       "    .dataframe thead th {\n",
       "        text-align: right;\n",
       "    }\n",
       "</style>\n",
       "<table border=\"1\" class=\"dataframe\">\n",
       "  <thead>\n",
       "    <tr style=\"text-align: right;\">\n",
       "      <th></th>\n",
       "      <th>Wavelength (nm)</th>\n",
       "      <th>Transmittance (%)</th>\n",
       "      <th>Sample</th>\n",
       "    </tr>\n",
       "  </thead>\n",
       "  <tbody>\n",
       "    <tr>\n",
       "      <th>177</th>\n",
       "      <td>733.984</td>\n",
       "      <td>79.44486</td>\n",
       "      <td>60 nm</td>\n",
       "    </tr>\n",
       "  </tbody>\n",
       "</table>\n",
       "</div>"
      ],
      "text/plain": [
       "     Wavelength (nm)  Transmittance (%) Sample\n",
       "177          733.984           79.44486  60 nm"
      ]
     },
     "execution_count": 7,
     "metadata": {},
     "output_type": "execute_result"
    }
   ],
   "source": [
    "maxtrans_60 = df_60.loc[df_60[\"Transmittance (%)\"] == df_60[\"Transmittance (%)\"].max()]\n",
    "\n",
    "maxtrans_60"
   ]
  },
  {
   "attachments": {},
   "cell_type": "markdown",
   "metadata": {},
   "source": [
    "The maximum transmittance for the sample of $60$ $nm$ is of $79.44$% at a wavelength of $733.98$ $nm$."
   ]
  },
  {
   "attachments": {},
   "cell_type": "markdown",
   "metadata": {},
   "source": [
    "For the sample with thickness of $110$ $nm$:"
   ]
  },
  {
   "cell_type": "code",
   "execution_count": 8,
   "metadata": {},
   "outputs": [
    {
     "data": {
      "text/html": [
       "<div>\n",
       "<style scoped>\n",
       "    .dataframe tbody tr th:only-of-type {\n",
       "        vertical-align: middle;\n",
       "    }\n",
       "\n",
       "    .dataframe tbody tr th {\n",
       "        vertical-align: top;\n",
       "    }\n",
       "\n",
       "    .dataframe thead th {\n",
       "        text-align: right;\n",
       "    }\n",
       "</style>\n",
       "<table border=\"1\" class=\"dataframe\">\n",
       "  <thead>\n",
       "    <tr style=\"text-align: right;\">\n",
       "      <th></th>\n",
       "      <th>Wavelength (nm)</th>\n",
       "      <th>Transmittance (%)</th>\n",
       "      <th>Sample</th>\n",
       "    </tr>\n",
       "  </thead>\n",
       "  <tbody>\n",
       "    <tr>\n",
       "      <th>169</th>\n",
       "      <td>717.99</td>\n",
       "      <td>76.38255</td>\n",
       "      <td>110 nm</td>\n",
       "    </tr>\n",
       "  </tbody>\n",
       "</table>\n",
       "</div>"
      ],
      "text/plain": [
       "     Wavelength (nm)  Transmittance (%)  Sample\n",
       "169           717.99           76.38255  110 nm"
      ]
     },
     "execution_count": 8,
     "metadata": {},
     "output_type": "execute_result"
    }
   ],
   "source": [
    "maxtrans_110 = df_110.loc[df_110[\"Transmittance (%)\"] == df_110[\"Transmittance (%)\"].max()]\n",
    "\n",
    "maxtrans_110"
   ]
  },
  {
   "attachments": {},
   "cell_type": "markdown",
   "metadata": {},
   "source": [
    "The maximum transmittance for the sample of $110$ $nm$ is of $76.38$% at a wavelength of $717.99$ $nm$. "
   ]
  },
  {
   "attachments": {},
   "cell_type": "markdown",
   "metadata": {},
   "source": [
    "### Using Plotly to locate maximum transmittances in a graph"
   ]
  },
  {
   "cell_type": "code",
   "execution_count": 9,
   "metadata": {},
   "outputs": [
    {
     "data": {
      "application/vnd.plotly.v1+json": {
       "config": {
        "plotlyServerURL": "https://plot.ly"
       },
       "data": [
        {
         "hovertemplate": "Sample=60 nm<br>Wavelength (nm)=%{x}<br>Transmittance (%)=%{y}<extra></extra>",
         "legendgroup": "60 nm",
         "line": {
          "color": "#636efa",
          "dash": "solid"
         },
         "marker": {
          "symbol": "circle"
         },
         "mode": "lines+markers",
         "name": "60 nm",
         "orientation": "v",
         "showlegend": true,
         "type": "scatter",
         "x": [
          380.016,
          382.007,
          383.998,
          385.988,
          388.014,
          390.003,
          391.991,
          394.016,
          396.003,
          397.989,
          400.012,
          401.997,
          404.018,
          406.002,
          407.985,
          410.004,
          411.986,
          414.004,
          415.985,
          418.001,
          420.017,
          421.996,
          424.01,
          425.988,
          428.001,
          430.013,
          431.988,
          433.999,
          436.01,
          437.983,
          439.992,
          442,
          444.007,
          446.014,
          447.983,
          449.989,
          451.993,
          453.997,
          456,
          458.002,
          460.004,
          462.005,
          464.005,
          466.004,
          468.003,
          470,
          471.997,
          473.994,
          475.989,
          477.984,
          480.014,
          482.007,
          483.999,
          485.991,
          488.018,
          490.007,
          491.997,
          493.985,
          496.008,
          497.995,
          500.017,
          502.002,
          503.986,
          506.006,
          507.988,
          510.006,
          511.986,
          514.002,
          516.017,
          517.996,
          520.009,
          521.986,
          523.997,
          526.008,
          528.018,
          529.991,
          531.999,
          534.006,
          536.012,
          538.018,
          539.986,
          541.99,
          543.992,
          545.994,
          547.995,
          549.994,
          551.993,
          553.991,
          555.988,
          557.984,
          560.015,
          562.009,
          564.002,
          565.994,
          567.986,
          570.011,
          572.001,
          573.989,
          576.012,
          577.998,
          579.984,
          582.004,
          583.987,
          586.005,
          587.986,
          590.002,
          592.017,
          593.995,
          596.008,
          597.984,
          599.994,
          602.004,
          604.012,
          605.984,
          607.991,
          609.996,
          612,
          614.003,
          616.005,
          618.006,
          620.006,
          622.005,
          624.003,
          625.999,
          627.995,
          629.989,
          632.017,
          634.009,
          636,
          637.99,
          640.014,
          642.001,
          643.988,
          646.008,
          647.992,
          650.01,
          651.992,
          654.008,
          655.987,
          658,
          660.012,
          661.988,
          663.998,
          666.006,
          668.013,
          669.985,
          671.989,
          673.993,
          675.995,
          677.996,
          679.996,
          681.994,
          683.992,
          685.988,
          688.017,
          690.01,
          692.003,
          693.994,
          695.983,
          698.006,
          699.994,
          702.014,
          703.998,
          706.016,
          707.998,
          710.013,
          711.992,
          714.004,
          716.015,
          717.99,
          719.999,
          722.006,
          724.011,
          726.015,
          727.984,
          729.985,
          731.985,
          733.984,
          736.015,
          738.011,
          740.005,
          741.998,
          743.99,
          746.014,
          748.003,
          749.99,
          752.01,
          753.994,
          756.011,
          757.993,
          760.007,
          761.985,
          763.996,
          766.006,
          768.013,
          769.986,
          771.991,
          773.995,
          775.997,
          777.997,
          779.996,
          781.993,
          783.989,
          786.016,
          788.009,
          790,
          791.99,
          794.011,
          795.998,
          798.016,
          799.999,
          802.014,
          803.994,
          806.006,
          808.016,
          809.991,
          811.998,
          814.003,
          816.007,
          818.009,
          820.009,
          822.008,
          824.005,
          826,
          827.993,
          829.985,
          832.008,
          833.997,
          836.016,
          838.001,
          839.985,
          841.999,
          844.011,
          845.99,
          847.999,
          850.006,
          852.011,
          854.015,
          855.985,
          857.985,
          860.015,
          862.012,
          864.007,
          866,
          867.991,
          870.012,
          872,
          873.986,
          876.001,
          878.015,
          879.996,
          882.006,
          884.014,
          885.989,
          887.993,
          889.996,
          891.997,
          893.995,
          895.992,
          897.987,
          900.012,
          902.003,
          903.992,
          906.011,
          907.996,
          910.011,
          911.992,
          914.003,
          916.012,
          917.987,
          919.992,
          921.994,
          923.995,
          925.993,
          927.99,
          930.015,
          932.008,
          933.998,
          935.986,
          938.003,
          939.987,
          942,
          944.011,
          945.988,
          947.995,
          949.999,
          952.001,
          954.001,
          955.999,
          957.994,
          959.987,
          962.009,
          963.998,
          965.985,
          968,
          970.012,
          971.992,
          974.001,
          976.007,
          978.01,
          980.011,
          982.01,
          984.007,
          986.001,
          987.993,
          990.013,
          992,
          993.985,
          995.998,
          998.008,
          999.986,
          1001.991,
          1003.994,
          1005.995,
          1007.993,
          1009.988,
          1012.011,
          1014.002,
          1015.99,
          1018.005,
          1019.988,
          1021.999,
          1024.006,
          1026.011,
          1028.014,
          1030.014,
          1032.011,
          1034.006,
          1035.998,
          1037.988,
          1040.004,
          1041.989,
          1044,
          1046.008,
          1048.014,
          1049.987,
          1051.988,
          1054.014,
          1056.009,
          1058,
          1059.99,
          1062.005,
          1063.989,
          1065.998,
          1068.005,
          1070.009,
          1072.011,
          1074.009,
          1076.004,
          1077.997,
          1079.987,
          1082.002,
          1083.986,
          1085.995,
          1088.002,
          1090.005,
          1092.006,
          1094.003,
          1095.998,
          1097.989,
          1100.006
         ],
         "xaxis": "x",
         "y": [
          24.30456,
          24.98066,
          25.62613,
          26.22389,
          26.80113,
          27.36113,
          27.90724,
          28.44053,
          28.96993,
          29.51579,
          30.06772,
          30.62599,
          31.19052,
          31.77431,
          32.37687,
          32.98604,
          33.60487,
          34.19565,
          34.79211,
          35.38942,
          35.98001,
          36.57034,
          37.13831,
          37.69309,
          38.23195,
          38.73178,
          39.21195,
          39.6633,
          40.09176,
          40.49329,
          40.8677,
          41.19912,
          41.54165,
          41.85948,
          42.13672,
          42.41068,
          42.66148,
          42.91555,
          43.14855,
          43.38236,
          43.61403,
          43.85774,
          44.12699,
          44.39924,
          44.67475,
          44.96582,
          45.27214,
          45.61521,
          45.94993,
          46.36117,
          46.80412,
          47.31828,
          47.87418,
          48.4906,
          49.12894,
          49.82888,
          50.63525,
          51.45941,
          52.34566,
          53.30664,
          54.27307,
          55.31664,
          56.37036,
          57.5017,
          58.60114,
          59.72411,
          60.80697,
          61.87901,
          62.90637,
          63.90501,
          64.81157,
          65.69025,
          66.50465,
          67.29076,
          67.99021,
          68.62464,
          69.16836,
          69.64301,
          70.00859,
          70.40569,
          70.7129,
          70.96857,
          71.19174,
          71.37999,
          71.53108,
          71.67704,
          71.8231,
          71.9617,
          72.03954,
          72.13157,
          72.17746,
          72.24066,
          72.25975,
          72.289,
          72.33743,
          72.42012,
          72.48876,
          72.55121,
          72.60728,
          72.63662,
          72.68883,
          72.72493,
          72.75974,
          72.83598,
          72.87448,
          72.94072,
          72.99799,
          73.06922,
          73.14855,
          73.23866,
          73.32713,
          73.40355,
          73.46607,
          73.5537,
          73.6102,
          73.69022,
          73.75405,
          73.84056,
          73.97406,
          74.06566,
          74.15763,
          74.23024,
          74.30765,
          74.38713,
          74.48382,
          74.59176,
          74.70359,
          74.81592,
          74.93225,
          75.03156,
          75.11026,
          75.2304,
          75.34648,
          75.45985,
          75.59521,
          75.76046,
          75.90531,
          76.07411,
          76.20244,
          76.36125,
          76.49561,
          76.64527,
          76.8254,
          76.96614,
          77.12618,
          77.23106,
          77.36645,
          77.48983,
          77.64689,
          77.75995,
          77.87166,
          77.96143,
          78.02218,
          78.12208,
          78.22317,
          78.33217,
          78.39427,
          78.45882,
          78.54645,
          78.602,
          78.6732,
          78.74304,
          78.83943,
          78.9337,
          78.99403,
          79.07558,
          79.17322,
          79.22653,
          79.2244,
          79.22373,
          79.22345,
          79.26535,
          79.30708,
          79.31407,
          79.35975,
          79.35635,
          79.38519,
          79.44486,
          79.41136,
          79.34747,
          79.30548,
          79.29197,
          79.28432,
          79.26036,
          79.25046,
          79.24532,
          79.2579,
          79.25203,
          79.22933,
          79.16046,
          79.12787,
          79.06919,
          79.01722,
          79.01252,
          78.9418,
          78.92159,
          78.84527,
          78.86682,
          78.92078,
          78.91904,
          78.84062,
          78.81814,
          78.72259,
          78.70659,
          78.66879,
          78.60232,
          78.50394,
          78.38684,
          78.26859,
          78.16192,
          78.14008,
          78.08209,
          78.0037,
          77.90038,
          77.87217,
          77.80182,
          77.7608,
          77.6316,
          77.54022,
          77.4959,
          77.4782,
          77.54428,
          77.50061,
          77.40683,
          77.33986,
          77.25898,
          77.14964,
          77.28178,
          77.3821,
          77.51798,
          77.68739,
          77.67827,
          77.70369,
          77.84852,
          77.89259,
          77.82079,
          77.85431,
          77.83959,
          77.78167,
          77.69903,
          77.5542,
          77.33939,
          77.19554,
          76.99226,
          76.79375,
          76.60009,
          76.34536,
          76.14112,
          75.97795,
          75.80185,
          75.88551,
          76.02789,
          76.04934,
          76.10134,
          76.04383,
          75.86915,
          75.77179,
          76.07063,
          76.29096,
          76.53299,
          76.7462,
          76.76978,
          76.82055,
          77.01023,
          77.09545,
          77.16681,
          77.07026,
          77.04721,
          77.17554,
          77.16663,
          77.07208,
          76.93935,
          76.78329,
          76.60602,
          76.66076,
          76.60182,
          76.51112,
          76.43894,
          76.29038,
          76.19583,
          76.18663,
          76.49963,
          76.46565,
          76.31921,
          76.2084,
          76.18171,
          76.27943,
          76.35737,
          76.31649,
          76.22517,
          76.15361,
          76.30156,
          76.42509,
          76.33843,
          76.28957,
          76.257,
          76.26554,
          76.31696,
          76.48064,
          76.48337,
          76.4645,
          76.48626,
          76.44877,
          76.35759,
          76.2847,
          76.38899,
          76.52017,
          76.56484,
          76.61018,
          76.60685,
          76.55057,
          76.59774,
          76.77902,
          76.87961,
          76.98609,
          77.06469,
          77.07957,
          77.04096,
          77.00295,
          76.94454,
          76.84468,
          76.81016,
          76.85485,
          76.88347,
          76.87057,
          76.8515,
          76.78779,
          76.74911,
          76.76087,
          76.87391,
          76.86021,
          76.67174,
          76.56752,
          76.49981,
          76.51216,
          76.62598,
          76.62392,
          76.51778,
          76.42077,
          76.31125,
          76.19446,
          76.13795,
          76.14553,
          76.17651,
          76.22043,
          76.34087,
          76.42924,
          76.48643,
          76.49522,
          76.51924,
          76.56004,
          76.59514,
          76.57496,
          76.58397,
          76.59449,
          76.54635,
          76.51353,
          76.5749,
          76.60664,
          76.52434,
          76.4618
         ],
         "yaxis": "y"
        },
        {
         "hovertemplate": "Sample=110 nm<br>Wavelength (nm)=%{x}<br>Transmittance (%)=%{y}<extra></extra>",
         "legendgroup": "110 nm",
         "line": {
          "color": "#EF553B",
          "dash": "solid"
         },
         "marker": {
          "symbol": "circle"
         },
         "mode": "lines+markers",
         "name": "110 nm",
         "orientation": "v",
         "showlegend": true,
         "type": "scatter",
         "x": [
          380.016,
          382.007,
          383.998,
          385.988,
          388.014,
          390.003,
          391.991,
          394.016,
          396.003,
          397.989,
          400.012,
          401.997,
          404.018,
          406.002,
          407.985,
          410.004,
          411.986,
          414.004,
          415.985,
          418.001,
          420.017,
          421.996,
          424.01,
          425.988,
          428.001,
          430.013,
          431.988,
          433.999,
          436.01,
          437.983,
          439.992,
          442,
          444.007,
          446.014,
          447.983,
          449.989,
          451.993,
          453.997,
          456,
          458.002,
          460.004,
          462.005,
          464.005,
          466.004,
          468.003,
          470,
          471.997,
          473.994,
          475.989,
          477.984,
          480.014,
          482.007,
          483.999,
          485.991,
          488.018,
          490.007,
          491.997,
          493.985,
          496.008,
          497.995,
          500.017,
          502.002,
          503.986,
          506.006,
          507.988,
          510.006,
          511.986,
          514.002,
          516.017,
          517.996,
          520.009,
          521.986,
          523.997,
          526.008,
          528.018,
          529.991,
          531.999,
          534.006,
          536.012,
          538.018,
          539.986,
          541.99,
          543.992,
          545.994,
          547.995,
          549.994,
          551.993,
          553.991,
          555.988,
          557.984,
          560.015,
          562.009,
          564.002,
          565.994,
          567.986,
          570.011,
          572.001,
          573.989,
          576.012,
          577.998,
          579.984,
          582.004,
          583.987,
          586.005,
          587.986,
          590.002,
          592.017,
          593.995,
          596.008,
          597.984,
          599.994,
          602.004,
          604.012,
          605.984,
          607.991,
          609.996,
          612,
          614.003,
          616.005,
          618.006,
          620.006,
          622.005,
          624.003,
          625.999,
          627.995,
          629.989,
          632.017,
          634.009,
          636,
          637.99,
          640.014,
          642.001,
          643.988,
          646.008,
          647.992,
          650.01,
          651.992,
          654.008,
          655.987,
          658,
          660.012,
          661.988,
          663.998,
          666.006,
          668.013,
          669.985,
          671.989,
          673.993,
          675.995,
          677.996,
          679.996,
          681.994,
          683.992,
          685.988,
          688.017,
          690.01,
          692.003,
          693.994,
          695.983,
          698.006,
          699.994,
          702.014,
          703.998,
          706.016,
          707.998,
          710.013,
          711.992,
          714.004,
          716.015,
          717.99,
          719.999,
          722.006,
          724.011,
          726.015,
          727.984,
          729.985,
          731.985,
          733.984,
          736.015,
          738.011,
          740.005,
          741.998,
          743.99,
          746.014,
          748.003,
          749.99,
          752.01,
          753.994,
          756.011,
          757.993,
          760.007,
          761.985,
          763.996,
          766.006,
          768.013,
          769.986,
          771.991,
          773.995,
          775.997,
          777.997,
          779.996,
          781.993,
          783.989,
          786.016,
          788.009,
          790,
          791.99,
          794.011,
          795.998,
          798.016,
          799.999,
          802.014,
          803.994,
          806.006,
          808.016,
          809.991,
          811.998,
          814.003,
          816.007,
          818.009,
          820.009,
          822.008,
          824.005,
          826,
          827.993,
          829.985,
          832.008,
          833.997,
          836.016,
          838.001,
          839.985,
          841.999,
          844.011,
          845.99,
          847.999,
          850.006,
          852.011,
          854.015,
          855.985,
          857.985,
          860.015,
          862.012,
          864.007,
          866,
          867.991,
          870.012,
          872,
          873.986,
          876.001,
          878.015,
          879.996,
          882.006,
          884.014,
          885.989,
          887.993,
          889.996,
          891.997,
          893.995,
          895.992,
          897.987,
          900.012,
          902.003,
          903.992,
          906.011,
          907.996,
          910.011,
          911.992,
          914.003,
          916.012,
          917.987,
          919.992,
          921.994,
          923.995,
          925.993,
          927.99,
          930.015,
          932.008,
          933.998,
          935.986,
          938.003,
          939.987,
          942,
          944.011,
          945.988,
          947.995,
          949.999,
          952.001,
          954.001,
          955.999,
          957.994,
          959.987,
          962.009,
          963.998,
          965.985,
          968,
          970.012,
          971.992,
          974.001,
          976.007,
          978.01,
          980.011,
          982.01,
          984.007,
          986.001,
          987.993,
          990.013,
          992,
          993.985,
          995.998,
          998.008,
          999.986,
          1001.991,
          1003.994,
          1005.995,
          1007.993,
          1009.988,
          1012.011,
          1014.002,
          1015.99,
          1018.005,
          1019.988,
          1021.999,
          1024.006,
          1026.011,
          1028.014,
          1030.014,
          1032.011,
          1034.006,
          1035.998,
          1037.988,
          1040.004,
          1041.989,
          1044,
          1046.008,
          1048.014,
          1049.987,
          1051.988,
          1054.014,
          1056.009,
          1058,
          1059.99,
          1062.005,
          1063.989,
          1065.998,
          1068.005,
          1070.009,
          1072.011,
          1074.009,
          1076.004,
          1077.997,
          1079.987,
          1082.002,
          1083.986,
          1085.995,
          1088.002,
          1090.005,
          1092.006,
          1094.003,
          1095.998,
          1097.989,
          1100.006
         ],
         "xaxis": "x",
         "y": [
          14.55002,
          15.02878,
          15.49435,
          15.93374,
          16.35576,
          16.78022,
          17.20162,
          17.61563,
          18.04064,
          18.46742,
          18.90993,
          19.37147,
          19.84175,
          20.3226,
          20.81778,
          21.33608,
          21.85913,
          22.38966,
          22.91283,
          23.44708,
          23.98637,
          24.52606,
          25.05788,
          25.59195,
          26.11161,
          26.62526,
          27.12294,
          27.59903,
          28.05076,
          28.48536,
          28.90544,
          29.29066,
          29.68834,
          30.05921,
          30.42885,
          30.77574,
          31.10419,
          31.42057,
          31.74263,
          32.0541,
          32.36624,
          32.67922,
          33.01023,
          33.33791,
          33.67697,
          34.04664,
          34.44143,
          34.85027,
          35.27985,
          35.81085,
          36.3817,
          37.01172,
          37.71653,
          38.49705,
          39.33183,
          40.25683,
          41.3292,
          42.50812,
          43.77462,
          45.13161,
          46.56233,
          48.09597,
          49.72708,
          51.39402,
          53.07465,
          54.77919,
          56.47896,
          58.12845,
          59.74605,
          61.30628,
          62.7426,
          64.10585,
          65.39597,
          66.57746,
          67.5891,
          68.48468,
          69.25252,
          69.90981,
          70.46991,
          70.955,
          71.35877,
          71.68954,
          71.90324,
          72.09937,
          72.24536,
          72.38054,
          72.47023,
          72.5243,
          72.55393,
          72.59733,
          72.62113,
          72.63427,
          72.65728,
          72.66618,
          72.65698,
          72.71848,
          72.73706,
          72.70428,
          72.70462,
          72.70666,
          72.72196,
          72.72733,
          72.73483,
          72.73495,
          72.71702,
          72.72861,
          72.70491,
          72.73394,
          72.73947,
          72.75646,
          72.76458,
          72.82916,
          72.87206,
          72.93545,
          72.9518,
          72.98938,
          73.02121,
          73.05142,
          73.09779,
          73.14557,
          73.17828,
          73.20392,
          73.26523,
          73.31107,
          73.34354,
          73.39094,
          73.46107,
          73.5379,
          73.59056,
          73.67953,
          73.72784,
          73.84798,
          73.91849,
          74.01561,
          74.12404,
          74.27052,
          74.36417,
          74.44857,
          74.50664,
          74.62696,
          74.69552,
          74.78479,
          74.87589,
          74.96921,
          75.07619,
          75.15061,
          75.20469,
          75.2553,
          75.31598,
          75.39591,
          75.44772,
          75.48019,
          75.49383,
          75.54917,
          75.59792,
          75.6706,
          75.69026,
          75.74896,
          75.81021,
          75.85409,
          75.91787,
          75.99597,
          76.0701,
          76.14402,
          76.18846,
          76.28234,
          76.33096,
          76.37735,
          76.37059,
          76.38255,
          76.33746,
          76.34926,
          76.30022,
          76.28923,
          76.27037,
          76.2564,
          76.25238,
          76.26791,
          76.20617,
          76.14981,
          76.1438,
          76.1282,
          76.09798,
          76.08328,
          76.08672,
          76.05438,
          76.00132,
          75.99893,
          75.9406,
          75.83839,
          75.75799,
          75.68197,
          75.59289,
          75.53747,
          75.41703,
          75.34347,
          75.20817,
          75.22067,
          75.2266,
          75.19292,
          75.07234,
          75.00219,
          74.92182,
          74.88424,
          74.84682,
          74.74402,
          74.63406,
          74.55287,
          74.43023,
          74.31252,
          74.26494,
          74.24654,
          74.16062,
          74.0661,
          74.04795,
          74.00226,
          73.97738,
          73.90278,
          73.82138,
          73.79471,
          73.75765,
          73.80162,
          73.76238,
          73.63851,
          73.53375,
          73.41561,
          73.32022,
          73.41117,
          73.51032,
          73.63543,
          73.78909,
          73.71203,
          73.7188,
          73.85058,
          73.86576,
          73.81038,
          73.81826,
          73.76869,
          73.70542,
          73.59216,
          73.45633,
          73.27612,
          73.10146,
          72.91719,
          72.70664,
          72.51438,
          72.23505,
          72.00101,
          71.80184,
          71.64702,
          71.70082,
          71.82523,
          71.82763,
          71.87142,
          71.7669,
          71.56986,
          71.54061,
          71.84303,
          72.01065,
          72.23405,
          72.4441,
          72.4503,
          72.50184,
          72.66753,
          72.80649,
          72.87343,
          72.75209,
          72.73717,
          72.85486,
          72.85409,
          72.73662,
          72.55005,
          72.34161,
          72.18459,
          72.22401,
          72.1639,
          72.07604,
          71.98434,
          71.82617,
          71.74054,
          71.72368,
          71.98331,
          71.91563,
          71.776,
          71.68565,
          71.68761,
          71.78679,
          71.83327,
          71.77893,
          71.68707,
          71.58812,
          71.73778,
          71.86381,
          71.76012,
          71.65512,
          71.58192,
          71.59858,
          71.64393,
          71.7847,
          71.74822,
          71.75385,
          71.77413,
          71.73098,
          71.6041,
          71.54345,
          71.6613,
          71.81075,
          71.90119,
          72.01243,
          72.0301,
          71.94596,
          71.99201,
          72.19104,
          72.31835,
          72.41993,
          72.49409,
          72.49215,
          72.43414,
          72.37852,
          72.30841,
          72.19887,
          72.19281,
          72.25055,
          72.29427,
          72.32998,
          72.31485,
          72.24394,
          72.19045,
          72.24024,
          72.37725,
          72.37816,
          72.25818,
          72.17844,
          72.09815,
          72.11995,
          72.25669,
          72.28844,
          72.22226,
          72.14725,
          72.0387,
          71.94329,
          71.93689,
          71.98316,
          72.06125,
          72.15465,
          72.28286,
          72.3689,
          72.43454,
          72.46059,
          72.43762,
          72.44066,
          72.44302,
          72.43208,
          72.4318,
          72.42221,
          72.38561,
          72.30723,
          72.34763,
          72.40607,
          72.33378,
          72.3193
         ],
         "yaxis": "y"
        }
       ],
       "layout": {
        "legend": {
         "title": {
          "text": "Sample"
         },
         "tracegroupgap": 0
        },
        "template": {
         "data": {
          "bar": [
           {
            "error_x": {
             "color": "#2a3f5f"
            },
            "error_y": {
             "color": "#2a3f5f"
            },
            "marker": {
             "line": {
              "color": "#E5ECF6",
              "width": 0.5
             },
             "pattern": {
              "fillmode": "overlay",
              "size": 10,
              "solidity": 0.2
             }
            },
            "type": "bar"
           }
          ],
          "barpolar": [
           {
            "marker": {
             "line": {
              "color": "#E5ECF6",
              "width": 0.5
             },
             "pattern": {
              "fillmode": "overlay",
              "size": 10,
              "solidity": 0.2
             }
            },
            "type": "barpolar"
           }
          ],
          "carpet": [
           {
            "aaxis": {
             "endlinecolor": "#2a3f5f",
             "gridcolor": "white",
             "linecolor": "white",
             "minorgridcolor": "white",
             "startlinecolor": "#2a3f5f"
            },
            "baxis": {
             "endlinecolor": "#2a3f5f",
             "gridcolor": "white",
             "linecolor": "white",
             "minorgridcolor": "white",
             "startlinecolor": "#2a3f5f"
            },
            "type": "carpet"
           }
          ],
          "choropleth": [
           {
            "colorbar": {
             "outlinewidth": 0,
             "ticks": ""
            },
            "type": "choropleth"
           }
          ],
          "contour": [
           {
            "colorbar": {
             "outlinewidth": 0,
             "ticks": ""
            },
            "colorscale": [
             [
              0,
              "#0d0887"
             ],
             [
              0.1111111111111111,
              "#46039f"
             ],
             [
              0.2222222222222222,
              "#7201a8"
             ],
             [
              0.3333333333333333,
              "#9c179e"
             ],
             [
              0.4444444444444444,
              "#bd3786"
             ],
             [
              0.5555555555555556,
              "#d8576b"
             ],
             [
              0.6666666666666666,
              "#ed7953"
             ],
             [
              0.7777777777777778,
              "#fb9f3a"
             ],
             [
              0.8888888888888888,
              "#fdca26"
             ],
             [
              1,
              "#f0f921"
             ]
            ],
            "type": "contour"
           }
          ],
          "contourcarpet": [
           {
            "colorbar": {
             "outlinewidth": 0,
             "ticks": ""
            },
            "type": "contourcarpet"
           }
          ],
          "heatmap": [
           {
            "colorbar": {
             "outlinewidth": 0,
             "ticks": ""
            },
            "colorscale": [
             [
              0,
              "#0d0887"
             ],
             [
              0.1111111111111111,
              "#46039f"
             ],
             [
              0.2222222222222222,
              "#7201a8"
             ],
             [
              0.3333333333333333,
              "#9c179e"
             ],
             [
              0.4444444444444444,
              "#bd3786"
             ],
             [
              0.5555555555555556,
              "#d8576b"
             ],
             [
              0.6666666666666666,
              "#ed7953"
             ],
             [
              0.7777777777777778,
              "#fb9f3a"
             ],
             [
              0.8888888888888888,
              "#fdca26"
             ],
             [
              1,
              "#f0f921"
             ]
            ],
            "type": "heatmap"
           }
          ],
          "heatmapgl": [
           {
            "colorbar": {
             "outlinewidth": 0,
             "ticks": ""
            },
            "colorscale": [
             [
              0,
              "#0d0887"
             ],
             [
              0.1111111111111111,
              "#46039f"
             ],
             [
              0.2222222222222222,
              "#7201a8"
             ],
             [
              0.3333333333333333,
              "#9c179e"
             ],
             [
              0.4444444444444444,
              "#bd3786"
             ],
             [
              0.5555555555555556,
              "#d8576b"
             ],
             [
              0.6666666666666666,
              "#ed7953"
             ],
             [
              0.7777777777777778,
              "#fb9f3a"
             ],
             [
              0.8888888888888888,
              "#fdca26"
             ],
             [
              1,
              "#f0f921"
             ]
            ],
            "type": "heatmapgl"
           }
          ],
          "histogram": [
           {
            "marker": {
             "pattern": {
              "fillmode": "overlay",
              "size": 10,
              "solidity": 0.2
             }
            },
            "type": "histogram"
           }
          ],
          "histogram2d": [
           {
            "colorbar": {
             "outlinewidth": 0,
             "ticks": ""
            },
            "colorscale": [
             [
              0,
              "#0d0887"
             ],
             [
              0.1111111111111111,
              "#46039f"
             ],
             [
              0.2222222222222222,
              "#7201a8"
             ],
             [
              0.3333333333333333,
              "#9c179e"
             ],
             [
              0.4444444444444444,
              "#bd3786"
             ],
             [
              0.5555555555555556,
              "#d8576b"
             ],
             [
              0.6666666666666666,
              "#ed7953"
             ],
             [
              0.7777777777777778,
              "#fb9f3a"
             ],
             [
              0.8888888888888888,
              "#fdca26"
             ],
             [
              1,
              "#f0f921"
             ]
            ],
            "type": "histogram2d"
           }
          ],
          "histogram2dcontour": [
           {
            "colorbar": {
             "outlinewidth": 0,
             "ticks": ""
            },
            "colorscale": [
             [
              0,
              "#0d0887"
             ],
             [
              0.1111111111111111,
              "#46039f"
             ],
             [
              0.2222222222222222,
              "#7201a8"
             ],
             [
              0.3333333333333333,
              "#9c179e"
             ],
             [
              0.4444444444444444,
              "#bd3786"
             ],
             [
              0.5555555555555556,
              "#d8576b"
             ],
             [
              0.6666666666666666,
              "#ed7953"
             ],
             [
              0.7777777777777778,
              "#fb9f3a"
             ],
             [
              0.8888888888888888,
              "#fdca26"
             ],
             [
              1,
              "#f0f921"
             ]
            ],
            "type": "histogram2dcontour"
           }
          ],
          "mesh3d": [
           {
            "colorbar": {
             "outlinewidth": 0,
             "ticks": ""
            },
            "type": "mesh3d"
           }
          ],
          "parcoords": [
           {
            "line": {
             "colorbar": {
              "outlinewidth": 0,
              "ticks": ""
             }
            },
            "type": "parcoords"
           }
          ],
          "pie": [
           {
            "automargin": true,
            "type": "pie"
           }
          ],
          "scatter": [
           {
            "fillpattern": {
             "fillmode": "overlay",
             "size": 10,
             "solidity": 0.2
            },
            "type": "scatter"
           }
          ],
          "scatter3d": [
           {
            "line": {
             "colorbar": {
              "outlinewidth": 0,
              "ticks": ""
             }
            },
            "marker": {
             "colorbar": {
              "outlinewidth": 0,
              "ticks": ""
             }
            },
            "type": "scatter3d"
           }
          ],
          "scattercarpet": [
           {
            "marker": {
             "colorbar": {
              "outlinewidth": 0,
              "ticks": ""
             }
            },
            "type": "scattercarpet"
           }
          ],
          "scattergeo": [
           {
            "marker": {
             "colorbar": {
              "outlinewidth": 0,
              "ticks": ""
             }
            },
            "type": "scattergeo"
           }
          ],
          "scattergl": [
           {
            "marker": {
             "colorbar": {
              "outlinewidth": 0,
              "ticks": ""
             }
            },
            "type": "scattergl"
           }
          ],
          "scattermapbox": [
           {
            "marker": {
             "colorbar": {
              "outlinewidth": 0,
              "ticks": ""
             }
            },
            "type": "scattermapbox"
           }
          ],
          "scatterpolar": [
           {
            "marker": {
             "colorbar": {
              "outlinewidth": 0,
              "ticks": ""
             }
            },
            "type": "scatterpolar"
           }
          ],
          "scatterpolargl": [
           {
            "marker": {
             "colorbar": {
              "outlinewidth": 0,
              "ticks": ""
             }
            },
            "type": "scatterpolargl"
           }
          ],
          "scatterternary": [
           {
            "marker": {
             "colorbar": {
              "outlinewidth": 0,
              "ticks": ""
             }
            },
            "type": "scatterternary"
           }
          ],
          "surface": [
           {
            "colorbar": {
             "outlinewidth": 0,
             "ticks": ""
            },
            "colorscale": [
             [
              0,
              "#0d0887"
             ],
             [
              0.1111111111111111,
              "#46039f"
             ],
             [
              0.2222222222222222,
              "#7201a8"
             ],
             [
              0.3333333333333333,
              "#9c179e"
             ],
             [
              0.4444444444444444,
              "#bd3786"
             ],
             [
              0.5555555555555556,
              "#d8576b"
             ],
             [
              0.6666666666666666,
              "#ed7953"
             ],
             [
              0.7777777777777778,
              "#fb9f3a"
             ],
             [
              0.8888888888888888,
              "#fdca26"
             ],
             [
              1,
              "#f0f921"
             ]
            ],
            "type": "surface"
           }
          ],
          "table": [
           {
            "cells": {
             "fill": {
              "color": "#EBF0F8"
             },
             "line": {
              "color": "white"
             }
            },
            "header": {
             "fill": {
              "color": "#C8D4E3"
             },
             "line": {
              "color": "white"
             }
            },
            "type": "table"
           }
          ]
         },
         "layout": {
          "annotationdefaults": {
           "arrowcolor": "#2a3f5f",
           "arrowhead": 0,
           "arrowwidth": 1
          },
          "autotypenumbers": "strict",
          "coloraxis": {
           "colorbar": {
            "outlinewidth": 0,
            "ticks": ""
           }
          },
          "colorscale": {
           "diverging": [
            [
             0,
             "#8e0152"
            ],
            [
             0.1,
             "#c51b7d"
            ],
            [
             0.2,
             "#de77ae"
            ],
            [
             0.3,
             "#f1b6da"
            ],
            [
             0.4,
             "#fde0ef"
            ],
            [
             0.5,
             "#f7f7f7"
            ],
            [
             0.6,
             "#e6f5d0"
            ],
            [
             0.7,
             "#b8e186"
            ],
            [
             0.8,
             "#7fbc41"
            ],
            [
             0.9,
             "#4d9221"
            ],
            [
             1,
             "#276419"
            ]
           ],
           "sequential": [
            [
             0,
             "#0d0887"
            ],
            [
             0.1111111111111111,
             "#46039f"
            ],
            [
             0.2222222222222222,
             "#7201a8"
            ],
            [
             0.3333333333333333,
             "#9c179e"
            ],
            [
             0.4444444444444444,
             "#bd3786"
            ],
            [
             0.5555555555555556,
             "#d8576b"
            ],
            [
             0.6666666666666666,
             "#ed7953"
            ],
            [
             0.7777777777777778,
             "#fb9f3a"
            ],
            [
             0.8888888888888888,
             "#fdca26"
            ],
            [
             1,
             "#f0f921"
            ]
           ],
           "sequentialminus": [
            [
             0,
             "#0d0887"
            ],
            [
             0.1111111111111111,
             "#46039f"
            ],
            [
             0.2222222222222222,
             "#7201a8"
            ],
            [
             0.3333333333333333,
             "#9c179e"
            ],
            [
             0.4444444444444444,
             "#bd3786"
            ],
            [
             0.5555555555555556,
             "#d8576b"
            ],
            [
             0.6666666666666666,
             "#ed7953"
            ],
            [
             0.7777777777777778,
             "#fb9f3a"
            ],
            [
             0.8888888888888888,
             "#fdca26"
            ],
            [
             1,
             "#f0f921"
            ]
           ]
          },
          "colorway": [
           "#636efa",
           "#EF553B",
           "#00cc96",
           "#ab63fa",
           "#FFA15A",
           "#19d3f3",
           "#FF6692",
           "#B6E880",
           "#FF97FF",
           "#FECB52"
          ],
          "font": {
           "color": "#2a3f5f"
          },
          "geo": {
           "bgcolor": "white",
           "lakecolor": "white",
           "landcolor": "#E5ECF6",
           "showlakes": true,
           "showland": true,
           "subunitcolor": "white"
          },
          "hoverlabel": {
           "align": "left"
          },
          "hovermode": "closest",
          "mapbox": {
           "style": "light"
          },
          "paper_bgcolor": "white",
          "plot_bgcolor": "#E5ECF6",
          "polar": {
           "angularaxis": {
            "gridcolor": "white",
            "linecolor": "white",
            "ticks": ""
           },
           "bgcolor": "#E5ECF6",
           "radialaxis": {
            "gridcolor": "white",
            "linecolor": "white",
            "ticks": ""
           }
          },
          "scene": {
           "xaxis": {
            "backgroundcolor": "#E5ECF6",
            "gridcolor": "white",
            "gridwidth": 2,
            "linecolor": "white",
            "showbackground": true,
            "ticks": "",
            "zerolinecolor": "white"
           },
           "yaxis": {
            "backgroundcolor": "#E5ECF6",
            "gridcolor": "white",
            "gridwidth": 2,
            "linecolor": "white",
            "showbackground": true,
            "ticks": "",
            "zerolinecolor": "white"
           },
           "zaxis": {
            "backgroundcolor": "#E5ECF6",
            "gridcolor": "white",
            "gridwidth": 2,
            "linecolor": "white",
            "showbackground": true,
            "ticks": "",
            "zerolinecolor": "white"
           }
          },
          "shapedefaults": {
           "line": {
            "color": "#2a3f5f"
           }
          },
          "ternary": {
           "aaxis": {
            "gridcolor": "white",
            "linecolor": "white",
            "ticks": ""
           },
           "baxis": {
            "gridcolor": "white",
            "linecolor": "white",
            "ticks": ""
           },
           "bgcolor": "#E5ECF6",
           "caxis": {
            "gridcolor": "white",
            "linecolor": "white",
            "ticks": ""
           }
          },
          "title": {
           "x": 0.05
          },
          "xaxis": {
           "automargin": true,
           "gridcolor": "white",
           "linecolor": "white",
           "ticks": "",
           "title": {
            "standoff": 15
           },
           "zerolinecolor": "white",
           "zerolinewidth": 2
          },
          "yaxis": {
           "automargin": true,
           "gridcolor": "white",
           "linecolor": "white",
           "ticks": "",
           "title": {
            "standoff": 15
           },
           "zerolinecolor": "white",
           "zerolinewidth": 2
          }
         }
        },
        "title": {
         "text": "Fig 1.1: Transmittance of two CdS samples of different thickness (Plotly)",
         "x": 0.5
        },
        "xaxis": {
         "anchor": "y",
         "domain": [
          0,
          1
         ],
         "linecolor": "black",
         "linewidth": 1,
         "mirror": true,
         "title": {
          "text": "Wavelength (nm)"
         }
        },
        "yaxis": {
         "anchor": "x",
         "domain": [
          0,
          1
         ],
         "linecolor": "black",
         "linewidth": 1,
         "mirror": true,
         "title": {
          "text": "Transmittance (%)"
         }
        }
       }
      }
     },
     "metadata": {},
     "output_type": "display_data"
    }
   ],
   "source": [
    "fig_1_1 = px.line(\n",
    "    df,\n",
    "    x=\"Wavelength (nm)\",\n",
    "    y=\"Transmittance (%)\",\n",
    "    color=\"Sample\",\n",
    "    markers=True,\n",
    "    title=\"Fig 1.1: Transmittance of two CdS samples of different thickness (Plotly)\"\n",
    ")\n",
    "\n",
    "fig_1_1.update_layout(title_x=0.5)\n",
    "fig_1_1.update_xaxes(linewidth=1, linecolor=\"black\", mirror=True)\n",
    "fig_1_1.update_yaxes(linewidth=1, linecolor=\"black\", mirror=True)\n",
    "fig_1_1.show()"
   ]
  },
  {
   "attachments": {},
   "cell_type": "markdown",
   "metadata": {},
   "source": [
    "We just have to zoom in the part of the graph where the transmittances are higher, i.e., from $700$ $nm$ to $800$ $nm$. From this, we can see that the maximum transmittance of the sample of $60$ $nm$ is at $733.98$ $nm$ with $79.44$% and for the sample of $110$ $nm$, is at $717.99$ with $76.48$%."
   ]
  },
  {
   "attachments": {},
   "cell_type": "markdown",
   "metadata": {},
   "source": [
    "## **Calculating the energy gap**"
   ]
  },
  {
   "attachments": {},
   "cell_type": "markdown",
   "metadata": {},
   "source": [
    "### Two Samples Method"
   ]
  },
  {
   "attachments": {},
   "cell_type": "markdown",
   "metadata": {},
   "source": [
    "From the Lambert's Law we have the equation  \n",
    "  \n",
    "$I_{T} = I_{0}e^{\\alpha d}$  \n",
    "  \n",
    "where $I_{0}$ is the incident light intensity and $I_{T}$ is the transmitted light intensity. It expresses the variation of light intensity when it passes through a sample of thickness $d$ and absorption coefficient $\\alpha$.  \n",
    "  \n",
    "If we consider the reflected light in the surface of the sample, we will have:    \n",
    "  \n",
    "$I_{T} \\thickapprox I_{0}(I-R)^{2}e^{-\\alpha d}$  \n",
    "  \n",
    "Finding the absorption coefficient through the transmittance and reflectance of the sample:  \n",
    "  \n",
    "$\\alpha = \\frac{1}{d}[ln({(\\frac{I_{0}}{I_{T}})\\frac{1}{(1-R)^{2}}})]$  \n",
    "  \n",
    "If R is the same for two samples of thicknesses $d_{1}$ and $d_{2}$:\n",
    "\n",
    "$\\alpha = \\frac{1}{d_{2}-d_{1}}ln(\\frac{T_{1}}{T_{2}})$  \n",
    "  \n",
    "\n",
    "where $T_{1}$ and $T_{2}$ are the transmittances of the samples with thickness $d_{1}$ and $d_{2}$ respectively, which are measured if the reflectance of both samples are unkown.  \n",
    "  \n",
    "From the intercept for the x axis ($\\alpha^{2} = 0$) of the graph of $\\alpha^{2}$ in function of the photon energy, the energy gap can be calculated."
   ]
  },
  {
   "attachments": {},
   "cell_type": "markdown",
   "metadata": {},
   "source": [
    "We will create a new dataframe for the absortion coefficient."
   ]
  },
  {
   "cell_type": "code",
   "execution_count": 10,
   "metadata": {},
   "outputs": [
    {
     "data": {
      "text/html": [
       "<div>\n",
       "<style scoped>\n",
       "    .dataframe tbody tr th:only-of-type {\n",
       "        vertical-align: middle;\n",
       "    }\n",
       "\n",
       "    .dataframe tbody tr th {\n",
       "        vertical-align: top;\n",
       "    }\n",
       "\n",
       "    .dataframe thead th {\n",
       "        text-align: right;\n",
       "    }\n",
       "</style>\n",
       "<table border=\"1\" class=\"dataframe\">\n",
       "  <thead>\n",
       "    <tr style=\"text-align: right;\">\n",
       "      <th></th>\n",
       "      <th>Energy (eV)</th>\n",
       "      <th>Alpha (cm^-1)</th>\n",
       "    </tr>\n",
       "  </thead>\n",
       "  <tbody>\n",
       "    <tr>\n",
       "      <th>0</th>\n",
       "      <td>3.263021</td>\n",
       "      <td>102614.323775</td>\n",
       "    </tr>\n",
       "    <tr>\n",
       "      <th>1</th>\n",
       "      <td>3.246014</td>\n",
       "      <td>101626.979201</td>\n",
       "    </tr>\n",
       "    <tr>\n",
       "      <th>2</th>\n",
       "      <td>3.229183</td>\n",
       "      <td>100627.418541</td>\n",
       "    </tr>\n",
       "    <tr>\n",
       "      <th>3</th>\n",
       "      <td>3.212535</td>\n",
       "      <td>99646.390769</td>\n",
       "    </tr>\n",
       "    <tr>\n",
       "      <th>4</th>\n",
       "      <td>3.195761</td>\n",
       "      <td>98772.784385</td>\n",
       "    </tr>\n",
       "    <tr>\n",
       "      <th>...</th>\n",
       "      <td>...</td>\n",
       "      <td>...</td>\n",
       "    </tr>\n",
       "    <tr>\n",
       "      <th>356</th>\n",
       "      <td>1.135525</td>\n",
       "      <td>11308.692755</td>\n",
       "    </tr>\n",
       "    <tr>\n",
       "      <th>357</th>\n",
       "      <td>1.133452</td>\n",
       "      <td>11357.330339</td>\n",
       "    </tr>\n",
       "    <tr>\n",
       "      <th>358</th>\n",
       "      <td>1.131389</td>\n",
       "      <td>11278.724281</td>\n",
       "    </tr>\n",
       "    <tr>\n",
       "      <th>359</th>\n",
       "      <td>1.129337</td>\n",
       "      <td>11263.524039</td>\n",
       "    </tr>\n",
       "    <tr>\n",
       "      <th>360</th>\n",
       "      <td>1.127267</td>\n",
       "      <td>11140.046576</td>\n",
       "    </tr>\n",
       "  </tbody>\n",
       "</table>\n",
       "<p>361 rows × 2 columns</p>\n",
       "</div>"
      ],
      "text/plain": [
       "     Energy (eV)  Alpha (cm^-1)\n",
       "0       3.263021  102614.323775\n",
       "1       3.246014  101626.979201\n",
       "2       3.229183  100627.418541\n",
       "3       3.212535   99646.390769\n",
       "4       3.195761   98772.784385\n",
       "..           ...            ...\n",
       "356     1.135525   11308.692755\n",
       "357     1.133452   11357.330339\n",
       "358     1.131389   11278.724281\n",
       "359     1.129337   11263.524039\n",
       "360     1.127267   11140.046576\n",
       "\n",
       "[361 rows x 2 columns]"
      ]
     },
     "execution_count": 10,
     "metadata": {},
     "output_type": "execute_result"
    }
   ],
   "source": [
    "# Separating transmittances from df\n",
    "trans_1 = df.loc[df[\"Sample\"] == \"60 nm\"][\"Transmittance (%)\"]\n",
    "trans_2 = df.loc[df[\"Sample\"] == \"110 nm\"][\"Transmittance (%)\"]\n",
    "trans_div = np.divide(trans_1, trans_2)\n",
    "\n",
    "# Since the absorption coefficient will be given in cm^{-1},\n",
    "# we will transform nm to cm (1 nm = 1E-7)\n",
    "d1_cm = (60) * (1E-7)\n",
    "d2_cm = (110) * (1E-7)\n",
    "\n",
    "# Calculating absorption coefficients\n",
    "abs_coef = ((1 / (d2_cm - d1_cm)) * (np.log(trans_div)))\n",
    "\n",
    "# Obtaining energies from wavelengths (the same wavelengths were used in both samples)\n",
    "wavelength = df.loc[df[\"Sample\"] == \"60 nm\"][\"Wavelength (nm)\"]\n",
    "# We must remeber that E=(hc)/lambda, where hc=1240 Ev*nm\n",
    "energy = 1240 / wavelength\n",
    "\n",
    "abs_data = {\n",
    "    \"Energy (eV)\": energy,\n",
    "    \"Alpha (cm^-1)\": abs_coef\n",
    "}\n",
    "\n",
    "df_abs = pd.DataFrame(abs_data)\n",
    "df_abs"
   ]
  },
  {
   "attachments": {},
   "cell_type": "markdown",
   "metadata": {},
   "source": [
    "We will use Plotly to identify in which points the graph of the absorption coefficient has a linear behaviour."
   ]
  },
  {
   "cell_type": "code",
   "execution_count": 11,
   "metadata": {},
   "outputs": [
    {
     "data": {
      "application/vnd.plotly.v1+json": {
       "config": {
        "plotlyServerURL": "https://plot.ly"
       },
       "data": [
        {
         "hovertemplate": "Energy (eV)=%{x}<br>Alpha (cm^-1)=%{y}<extra></extra>",
         "legendgroup": "",
         "line": {
          "color": "#636efa",
          "dash": "solid"
         },
         "marker": {
          "symbol": "circle"
         },
         "mode": "lines+markers",
         "name": "alpha(hv)",
         "orientation": "v",
         "showlegend": true,
         "type": "scatter",
         "x": [
          3.2630205043998144,
          3.246013816500745,
          3.229183485330653,
          3.2125351047182815,
          3.195760977696681,
          3.179462722081625,
          3.163337933779092,
          3.147080321611305,
          3.1312894094236663,
          3.1156640007638403,
          3.0999070027899163,
          3.0846001338318443,
          3.0691701854867857,
          3.0541721469352368,
          3.0393274262534162,
          3.02436073794402,
          3.0098110129955873,
          2.995140143573492,
          2.9808767143046024,
          2.966500080143349,
          2.9522614560839204,
          2.938416477881307,
          2.9244593287894154,
          2.910880118688789,
          2.897189492547915,
          2.88363375060754,
          2.870450105095512,
          2.8571494404364985,
          2.8439714685442996,
          2.831160113520388,
          2.8182330587828868,
          2.8054298642533935,
          2.792748762969953,
          2.7801817880156228,
          2.767962177136186,
          2.755622915226817,
          2.743405318223955,
          2.731295581248334,
          2.719298245614035,
          2.7074117580272574,
          2.6956287336631855,
          2.683953636865402,
          2.672384995851338,
          2.6609213654818413,
          2.6495556652414622,
          2.6382978723404253,
          2.6271353419619192,
          2.6160668700447682,
          2.605102218748753,
          2.594229095534579,
          2.583257988308674,
          2.572576746810731,
          2.561988764439596,
          2.5514875789880884,
          2.540889885209152,
          2.5305760938109048,
          2.5203405711823446,
          2.5101976780671476,
          2.499959678069709,
          2.489984839205213,
          2.4799156828667828,
          2.470109680837925,
          2.4603858043675815,
          2.4505638273063957,
          2.441002543367166,
          2.4313439449731966,
          2.42194122495537,
          2.41244197493395,
          2.4030216058773255,
          2.3938408790801473,
          2.3845741131403493,
          2.3755426390746113,
          2.3664257619795537,
          2.3573785950023574,
          2.34840478923067,
          2.3396623716251788,
          2.3308314489312947,
          2.322071287588529,
          2.313381043707977,
          2.3047556029723912,
          2.296355831447482,
          2.287865089761804,
          2.279445285960088,
          2.2710872280647774,
          2.262794368561757,
          2.254570049855089,
          2.246405298617917,
          2.238303510345836,
          2.230263962531565,
          2.222285943682973,
          2.2142264046498754,
          2.206370360617001,
          2.1985737639228233,
          2.19083594525737,
          2.1831524016437025,
          2.175396615153041,
          2.167828377922416,
          2.160320145508015,
          2.152732929175087,
          2.1453361430316367,
          2.137990013517614,
          2.1305695493501764,
          2.1233349372503154,
          2.1160229008284914,
          2.108893749170899,
          2.1016877908888447,
          2.094534447490528,
          2.087559659593094,
          2.0805089864565574,
          2.073634077165944,
          2.066687333540002,
          2.0597869781596136,
          2.0529393455759157,
          2.0462586470929924,
          2.0395038742349807,
          2.0328002150833777,
          2.026143790849673,
          2.0195341065108803,
          2.0129706739393347,
          2.0064530117830572,
          1.9999806453485935,
          1.9935531064862824,
          1.9871699334778838,
          1.9808338351978196,
          1.9745380138376898,
          1.9682883351931542,
          1.961972541877829,
          1.9558081983063331,
          1.949685534591195,
          1.9436041317262025,
          1.9374576181146037,
          1.9314611659483396,
          1.9255017174233058,
          1.9194808733018784,
          1.9136038716527366,
          1.9076629590313996,
          1.9018638265500192,
          1.8960012721556923,
          1.890281362283094,
          1.884498480243161,
          1.8787537196293402,
          1.873145736780727,
          1.8674755044442903,
          1.8618450884826865,
          1.856251300498643,
          1.8507877042023329,
          1.8452683005227764,
          1.8397817188012338,
          1.8343330941796907,
          1.8289193446569008,
          1.8235401384714027,
          1.8181978140570152,
          1.8128867004292448,
          1.8076117949585122,
          1.802281048288051,
          1.7970754047042796,
          1.7918997460993664,
          1.7867589633339769,
          1.7816527127817778,
          1.7764890273149516,
          1.7714437552321876,
          1.766346540097491,
          1.7613686402518187,
          1.756334134070616,
          1.7514173768852452,
          1.7464468960427484,
          1.7415926021640693,
          1.7366849485437057,
          1.731807294539919,
          1.7270435521386092,
          1.722224614200853,
          1.7174372512139788,
          1.7126811609215882,
          1.7079536924168233,
          1.7033341392118506,
          1.6986650410624875,
          1.6940237846403956,
          1.689410123381436,
          1.6847482727933534,
          1.680191758659424,
          1.6756643536192324,
          1.6711635341335151,
          1.666689068401457,
          1.662167197934623,
          1.657747361975821,
          1.6533553780717076,
          1.6489142431616601,
          1.6445754210245704,
          1.6401877750456013,
          1.6358990122600077,
          1.631563919806002,
          1.6273286219545005,
          1.6230451468332294,
          1.6187862758255158,
          1.6145560036093138,
          1.6104188907330783,
          1.6062363421335224,
          1.6020775328005994,
          1.5979443219496983,
          1.5938364800892548,
          1.5897517423166274,
          1.5856919435340213,
          1.5816548446470549,
          1.5775760289866874,
          1.573586088483761,
          1.5696202531645569,
          1.5656763342971503,
          1.5616912108270542,
          1.557792858776027,
          1.553853556820916,
          1.5500019375024219,
          1.546107673930879,
          1.5423000669159221,
          1.538450085979509,
          1.5346230767707572,
          1.5308812073220568,
          1.5270973573826536,
          1.523335909081416,
          1.5195948073974856,
          1.5158757421984355,
          1.512178524869849,
          1.5085011338089167,
          1.5048452375895778,
          1.5012106537530265,
          1.4975972019087116,
          1.4940029036669338,
          1.4903702849011067,
          1.4868158998173855,
          1.4832252014315517,
          1.4797118380526992,
          1.4762168372054263,
          1.4726858345437464,
          1.4691751647786582,
          1.4657383657017222,
          1.4622658753135322,
          1.4588132319065983,
          1.4553802709119954,
          1.4519651294181015,
          1.4486235155989884,
          1.4452467117723502,
          1.4418353168258693,
          1.4384950557532843,
          1.4351735576216398,
          1.4318706697459584,
          1.4285862411015782,
          1.4252676974570466,
          1.4220183486238531,
          1.4187870286251725,
          1.4155234982608467,
          1.41227655563971,
          1.4090973140787004,
          1.4058861277587682,
          1.4026927175361477,
          1.399565908831825,
          1.3964074041124197,
          1.3932646888300622,
          1.390139204504051,
          1.3870323659528296,
          1.3839409280440005,
          1.3808663154366378,
          1.3777594076523425,
          1.3747182659037718,
          1.3716935548102196,
          1.3686368046304074,
          1.3656447825761346,
          1.3626208913958184,
          1.3596610496583303,
          1.3566695076493185,
          1.3536940564097415,
          1.3507816559493762,
          1.3478378072852808,
          1.3449111382503574,
          1.3419986038885492,
          1.3391029953790146,
          1.3362212954880979,
          1.3333118283038445,
          1.3304606827409207,
          1.3276259692204908,
          1.3248061402627818,
          1.3219573924603651,
          1.319167179971638,
          1.316348195329087,
          1.3135440159065943,
          1.3107988684845895,
          1.3080237764967115,
          1.3052645318574019,
          1.302519640210462,
          1.2997889939318723,
          1.2970724864774963,
          1.2943713634949696,
          1.2916841582229759,
          1.2889692300175986,
          1.2863097226342792,
          1.2836638250076347,
          1.28099173553719,
          1.2783347010140083,
          1.2757306644499131,
          1.2730993089329476,
          1.2704826912102065,
          1.2678806965163956,
          1.2652919201927326,
          1.2627162656184765,
          1.2601536371184352,
          1.2576052154105322,
          1.2550696209386099,
          1.2525088054399285,
          1.25,
          1.2475037349658193,
          1.244982419643413,
          1.242475010220359,
          1.2400173602430433,
          1.2375360656932048,
          1.235067141835509,
          1.2326105000521872,
          1.2301672729870148,
          1.2277373592557534,
          1.2252831243929168,
          1.2228772724314154,
          1.2204844535871415,
          1.2180686735330377,
          1.2157005768695317,
          1.2133084278947435,
          1.2109304047046598,
          1.2085640407364053,
          1.2062092539595766,
          1.2038671319030616,
          1.2015375805102853,
          1.1992193468896697,
          1.196913507555034,
          1.1946188202561108,
          1.1923031065265135,
          1.190031756573246,
          1.1877394636015326,
          1.1854593846318575,
          1.1831903008929272,
          1.1809670024486016,
          1.1787206698175263,
          1.1764549616988011,
          1.1742324165797828,
          1.172022684310019,
          1.1698223568146868,
          1.1676027890640814,
          1.165425582407337,
          1.1632291993043138,
          1.1610432535428203,
          1.158868757178678,
          1.156704548740638,
          1.1545527085899652,
          1.1524120728175733,
          1.1502814942898727,
          1.1481619686162887,
          1.1460237596603333,
          1.1439262130691723,
          1.1418100451659539,
          1.1397037873092146,
          1.1376094605070617,
          1.135524896383353,
          1.1334521020509085,
          1.1313889258922005,
          1.1293373613032553,
          1.127266578545935
         ],
         "xaxis": "x",
         "y": [
          102614.32377512344,
          101626.979201264,
          100627.41854065271,
          99646.39076913153,
          98772.78438531989,
          97784.51625434228,
          96776.5175881355,
          95805.73287180906,
          94726.2809524052,
          93783.45518174306,
          92752.99802556708,
          91609.52595624993,
          90465.17977579926,
          89384.90687478297,
          88327.36994196588,
          87136.98105137938,
          86010.46274104244,
          84699.83957032562,
          83538.72425118605,
          82333.3877059083,
          81095.55081980137,
          79900.2607271945,
          78692.14049337126,
          77439.78792400524,
          76258.30209232564,
          74960.01248703891,
          73720.3366005175,
          72529.13994277436,
          71431.020167445,
          70349.20205814387,
          69262.04145942094,
          68229.64060609709,
          67188.43245575756,
          66229.83827455078,
          65105.67960388416,
          64134.70000786273,
          63190.77371274434,
          62354.29142911181,
          61397.648169556385,
          60525.56131352925,
          59652.59666537234,
          58842.362435293435,
          58050.81999205163,
          57305.432855872605,
          56518.848820478095,
          55634.25925878037,
          54686.32641408326,
          53836.065773969276,
          52848.06919533387,
          51642.26706229719,
          50381.06645333579,
          49132.41418766067,
          47695.571904106735,
          46157.669948921844,
          44482.83116149528,
          42663.01134218917,
          40615.74042636054,
          38219.64501353652,
          35762.96659311381,
          33295.60267074395,
          30647.262071152636,
          27975.075521393952,
          25078.766903655996,
          22458.537860657794,
          19810.947438581552,
          17285.082832229924,
          14767.248228368791,
          12505.161976981652,
          10308.870119822937,
          8303.095477811248,
          6488.698806389538,
          4882.977847708686,
          3362.2468519611893,
          2131.3699418276183,
          1183.399355745911,
          408.31665889233943,
          -243.2003332743911,
          -764.729297644581,
          -1313.572278523232,
          -1554.3579049880107,
          -1818.4468428680207,
          -2021.5496707270695,
          -1988.9051692976618,
          -2005.5456843820978,
          -1987.2125821226975,
          -1953.4011122154463,
          -1793.9411025151965,
          -1557.5290155451457,
          -1423.0024910875584,
          -1287.2663521778163,
          -1225.623504919213,
          -1086.7607486933464,
          -1097.2650961161462,
          -1040.82062125319,
          -881.5526539577148,
          -822.2772447223704,
          -683.9010912742062,
          -421.51950789877344,
          -267.94781310997575,
          -192.7574647320594,
          -91.13491666817788,
          -6.600103704705194,
          68.48365610724531,
          277.6104163685098,
          432.60784150954464,
          582.4428516519449,
          804.5972874318223,
          919.8170765986663,
          1121.630335860305,
          1321.1448531219507,
          1540.2729708577447,
          1571.1750237714466,
          1623.6732353785455,
          1688.1896600119173,
          1796.9307980274375,
          1911.2278281978658,
          1997.1924147325751,
          2148.919476560382,
          2383.2714938703393,
          2500.0863891574304,
          2658.861438563889,
          2784.5285744746743,
          2825.5526037394507,
          2914.264464506234,
          3085.498154532647,
          3245.910117099894,
          3354.5087701490934,
          3445.9553963187086,
          3613.5230624816786,
          3636.762406810651,
          3715.338357893977,
          3709.349744905029,
          3826.8418034470305,
          3864.941964386099,
          3930.603050381886,
          3972.483505462849,
          4102.480522204782,
          4319.889061921647,
          4501.046849328669,
          4594.706505244976,
          4762.647290177982,
          4914.674457789383,
          5140.674359805142,
          5257.6177937488,
          5387.863477362841,
          5461.49489162285,
          5667.9256118025705,
          5852.073779905323,
          6095.833438618187,
          6174.697527408466,
          6324.424174573981,
          6468.795898142778,
          6588.442836067744,
          6697.805760316731,
          6827.425129242706,
          6913.732892166195,
          7020.270314289902,
          7029.8372470881895,
          7091.437877801645,
          7117.103569673438,
          7130.093139317784,
          7101.916056587599,
          7151.593767757708,
          7196.342512455823,
          7232.454467385813,
          7192.529451333622,
          7311.897525650099,
          7325.006245434845,
          7337.3315528364055,
          7304.321642377296,
          7421.713258789593,
          7496.549088548758,
          7730.316844926712,
          7776.753081535785,
          7941.357083817677,
          7969.424516781527,
          8052.639762142259,
          8162.184592227295,
          8239.800104750397,
          8226.795628718106,
          8136.714629186634,
          8143.620241629398,
          8203.731691318178,
          8181.919988927772,
          8147.894948959687,
          8219.949330136757,
          8391.276755049703,
          8382.75326628607,
          8479.020560343466,
          8574.460582933832,
          8704.246830726746,
          8756.667376524969,
          8860.714450770187,
          8995.499277804822,
          9135.55210461127,
          9279.513772301209,
          9445.491124103877,
          9466.909375174284,
          9587.934543430662,
          9673.08785523333,
          9795.232855149681,
          9925.172061372929,
          9896.996753188765,
          9956.68662500849,
          9960.5765050948,
          10066.401293674304,
          10110.368646586121,
          10029.503600320857,
          10056.83931412998,
          10100.625768600952,
          10172.828773250596,
          10073.90637884031,
          10104.595987455787,
          10094.57863410183,
          10071.15596501373,
          10013.838189712902,
          9975.615472988706,
          9844.823028806864,
          9829.675587219375,
          9787.596582718992,
          9842.377562630054,
          9893.689090393245,
          9887.392351402292,
          9981.37940102003,
          10092.99829780735,
          10205.314333486987,
          10182.097810223737,
          10276.423777298549,
          10265.936634783646,
          10276.722735214826,
          10296.412928168136,
          10481.907539487795,
          10528.978346449081,
          10544.204895339917,
          10616.286927929235,
          10581.849402852302,
          10646.626629764183,
          10743.156761340855,
          10765.892287396235,
          10860.855012267244,
          10857.19335626024,
          10793.725506219871,
          10898.668828927277,
          10876.09672680541,
          10938.108402929138,
          10962.672932020123,
          11068.374378905766,
          11181.662779185126,
          11306.612828861711,
          11274.227268278364,
          11344.714600778694,
          11372.887912861055,
          11422.623838958732,
          11437.436788246541,
          11577.303520966141,
          11667.222058261665,
          11492.159859402005,
          11435.73013118667,
          11548.085368311242,
          11562.069665801087,
          11537.72877260435,
          11582.052717616942,
          11572.04832741201,
          11608.72307749272,
          11447.832995975523,
          11449.068321710132,
          11531.967835887232,
          11513.163549388486,
          11522.664921893185,
          11501.687174343402,
          11579.22325337003,
          11748.15612744382,
          11917.511213102214,
          11889.815104314634,
          11923.486943115511,
          11936.183079662143,
          11942.88338235624,
          12008.731366225553,
          12059.5909515741,
          12050.147505684106,
          12073.005981420996,
          12170.323526009435,
          12269.598805120882,
          12274.903519124,
          12236.220946504622,
          12160.695661779126,
          12140.566478836436,
          12215.363388668398,
          12259.611313455123,
          12276.265299195073,
          12364.66924796838,
          12335.17142899298,
          12307.64907216139,
          12369.518245243142,
          12534.324299784665,
          12653.33728788934,
          12629.191326688424,
          12637.352150452398,
          12673.255096821174,
          12782.05712205347,
          12717.013820515129,
          12717.402427277737,
          12739.62218173999,
          12855.020487155534,
          12833.487299777193,
          12777.544581059557,
          12704.03598309523,
          12569.02963646307,
          12378.2446168247,
          12320.48222500985,
          12407.257307392001,
          12402.486351777403,
          12323.097455171195,
          12232.558250043445,
          12228.643686152785,
          12228.03154314213,
          12271.9969549367,
          12331.898652351087,
          12386.832503809987,
          12428.891863317891,
          12472.36940342821,
          12399.293323628153,
          12355.72770547955,
          12309.205201446717,
          12176.87881985324,
          12169.0972143289,
          12199.439019399266,
          12246.80492537434,
          12139.554748212333,
          12054.904734307169,
          12016.744189611702,
          11857.530680356927,
          11806.315918106648,
          11851.974402955319,
          11823.795480610966,
          11742.253174509771,
          11649.014501856516,
          11554.964699589003,
          11509.069681797257,
          11523.379421143516,
          11482.117372164517,
          11351.523928301096,
          11242.83498260548,
          11107.339125348995,
          10963.560957223444,
          10924.282070039062,
          10917.739274366959,
          10886.016404918357,
          10837.085472597308,
          10963.28695594059,
          11061.50512969802,
          11146.661287620294,
          11124.16703556164,
          11148.471287593598,
          11202.42434812423,
          11177.78339640031,
          11308.692754832884,
          11357.330339390837,
          11278.724281297436,
          11263.524038663892,
          11140.046575757728
         ],
         "yaxis": "y"
        }
       ],
       "layout": {
        "legend": {
         "tracegroupgap": 0
        },
        "template": {
         "data": {
          "bar": [
           {
            "error_x": {
             "color": "#2a3f5f"
            },
            "error_y": {
             "color": "#2a3f5f"
            },
            "marker": {
             "line": {
              "color": "#E5ECF6",
              "width": 0.5
             },
             "pattern": {
              "fillmode": "overlay",
              "size": 10,
              "solidity": 0.2
             }
            },
            "type": "bar"
           }
          ],
          "barpolar": [
           {
            "marker": {
             "line": {
              "color": "#E5ECF6",
              "width": 0.5
             },
             "pattern": {
              "fillmode": "overlay",
              "size": 10,
              "solidity": 0.2
             }
            },
            "type": "barpolar"
           }
          ],
          "carpet": [
           {
            "aaxis": {
             "endlinecolor": "#2a3f5f",
             "gridcolor": "white",
             "linecolor": "white",
             "minorgridcolor": "white",
             "startlinecolor": "#2a3f5f"
            },
            "baxis": {
             "endlinecolor": "#2a3f5f",
             "gridcolor": "white",
             "linecolor": "white",
             "minorgridcolor": "white",
             "startlinecolor": "#2a3f5f"
            },
            "type": "carpet"
           }
          ],
          "choropleth": [
           {
            "colorbar": {
             "outlinewidth": 0,
             "ticks": ""
            },
            "type": "choropleth"
           }
          ],
          "contour": [
           {
            "colorbar": {
             "outlinewidth": 0,
             "ticks": ""
            },
            "colorscale": [
             [
              0,
              "#0d0887"
             ],
             [
              0.1111111111111111,
              "#46039f"
             ],
             [
              0.2222222222222222,
              "#7201a8"
             ],
             [
              0.3333333333333333,
              "#9c179e"
             ],
             [
              0.4444444444444444,
              "#bd3786"
             ],
             [
              0.5555555555555556,
              "#d8576b"
             ],
             [
              0.6666666666666666,
              "#ed7953"
             ],
             [
              0.7777777777777778,
              "#fb9f3a"
             ],
             [
              0.8888888888888888,
              "#fdca26"
             ],
             [
              1,
              "#f0f921"
             ]
            ],
            "type": "contour"
           }
          ],
          "contourcarpet": [
           {
            "colorbar": {
             "outlinewidth": 0,
             "ticks": ""
            },
            "type": "contourcarpet"
           }
          ],
          "heatmap": [
           {
            "colorbar": {
             "outlinewidth": 0,
             "ticks": ""
            },
            "colorscale": [
             [
              0,
              "#0d0887"
             ],
             [
              0.1111111111111111,
              "#46039f"
             ],
             [
              0.2222222222222222,
              "#7201a8"
             ],
             [
              0.3333333333333333,
              "#9c179e"
             ],
             [
              0.4444444444444444,
              "#bd3786"
             ],
             [
              0.5555555555555556,
              "#d8576b"
             ],
             [
              0.6666666666666666,
              "#ed7953"
             ],
             [
              0.7777777777777778,
              "#fb9f3a"
             ],
             [
              0.8888888888888888,
              "#fdca26"
             ],
             [
              1,
              "#f0f921"
             ]
            ],
            "type": "heatmap"
           }
          ],
          "heatmapgl": [
           {
            "colorbar": {
             "outlinewidth": 0,
             "ticks": ""
            },
            "colorscale": [
             [
              0,
              "#0d0887"
             ],
             [
              0.1111111111111111,
              "#46039f"
             ],
             [
              0.2222222222222222,
              "#7201a8"
             ],
             [
              0.3333333333333333,
              "#9c179e"
             ],
             [
              0.4444444444444444,
              "#bd3786"
             ],
             [
              0.5555555555555556,
              "#d8576b"
             ],
             [
              0.6666666666666666,
              "#ed7953"
             ],
             [
              0.7777777777777778,
              "#fb9f3a"
             ],
             [
              0.8888888888888888,
              "#fdca26"
             ],
             [
              1,
              "#f0f921"
             ]
            ],
            "type": "heatmapgl"
           }
          ],
          "histogram": [
           {
            "marker": {
             "pattern": {
              "fillmode": "overlay",
              "size": 10,
              "solidity": 0.2
             }
            },
            "type": "histogram"
           }
          ],
          "histogram2d": [
           {
            "colorbar": {
             "outlinewidth": 0,
             "ticks": ""
            },
            "colorscale": [
             [
              0,
              "#0d0887"
             ],
             [
              0.1111111111111111,
              "#46039f"
             ],
             [
              0.2222222222222222,
              "#7201a8"
             ],
             [
              0.3333333333333333,
              "#9c179e"
             ],
             [
              0.4444444444444444,
              "#bd3786"
             ],
             [
              0.5555555555555556,
              "#d8576b"
             ],
             [
              0.6666666666666666,
              "#ed7953"
             ],
             [
              0.7777777777777778,
              "#fb9f3a"
             ],
             [
              0.8888888888888888,
              "#fdca26"
             ],
             [
              1,
              "#f0f921"
             ]
            ],
            "type": "histogram2d"
           }
          ],
          "histogram2dcontour": [
           {
            "colorbar": {
             "outlinewidth": 0,
             "ticks": ""
            },
            "colorscale": [
             [
              0,
              "#0d0887"
             ],
             [
              0.1111111111111111,
              "#46039f"
             ],
             [
              0.2222222222222222,
              "#7201a8"
             ],
             [
              0.3333333333333333,
              "#9c179e"
             ],
             [
              0.4444444444444444,
              "#bd3786"
             ],
             [
              0.5555555555555556,
              "#d8576b"
             ],
             [
              0.6666666666666666,
              "#ed7953"
             ],
             [
              0.7777777777777778,
              "#fb9f3a"
             ],
             [
              0.8888888888888888,
              "#fdca26"
             ],
             [
              1,
              "#f0f921"
             ]
            ],
            "type": "histogram2dcontour"
           }
          ],
          "mesh3d": [
           {
            "colorbar": {
             "outlinewidth": 0,
             "ticks": ""
            },
            "type": "mesh3d"
           }
          ],
          "parcoords": [
           {
            "line": {
             "colorbar": {
              "outlinewidth": 0,
              "ticks": ""
             }
            },
            "type": "parcoords"
           }
          ],
          "pie": [
           {
            "automargin": true,
            "type": "pie"
           }
          ],
          "scatter": [
           {
            "fillpattern": {
             "fillmode": "overlay",
             "size": 10,
             "solidity": 0.2
            },
            "type": "scatter"
           }
          ],
          "scatter3d": [
           {
            "line": {
             "colorbar": {
              "outlinewidth": 0,
              "ticks": ""
             }
            },
            "marker": {
             "colorbar": {
              "outlinewidth": 0,
              "ticks": ""
             }
            },
            "type": "scatter3d"
           }
          ],
          "scattercarpet": [
           {
            "marker": {
             "colorbar": {
              "outlinewidth": 0,
              "ticks": ""
             }
            },
            "type": "scattercarpet"
           }
          ],
          "scattergeo": [
           {
            "marker": {
             "colorbar": {
              "outlinewidth": 0,
              "ticks": ""
             }
            },
            "type": "scattergeo"
           }
          ],
          "scattergl": [
           {
            "marker": {
             "colorbar": {
              "outlinewidth": 0,
              "ticks": ""
             }
            },
            "type": "scattergl"
           }
          ],
          "scattermapbox": [
           {
            "marker": {
             "colorbar": {
              "outlinewidth": 0,
              "ticks": ""
             }
            },
            "type": "scattermapbox"
           }
          ],
          "scatterpolar": [
           {
            "marker": {
             "colorbar": {
              "outlinewidth": 0,
              "ticks": ""
             }
            },
            "type": "scatterpolar"
           }
          ],
          "scatterpolargl": [
           {
            "marker": {
             "colorbar": {
              "outlinewidth": 0,
              "ticks": ""
             }
            },
            "type": "scatterpolargl"
           }
          ],
          "scatterternary": [
           {
            "marker": {
             "colorbar": {
              "outlinewidth": 0,
              "ticks": ""
             }
            },
            "type": "scatterternary"
           }
          ],
          "surface": [
           {
            "colorbar": {
             "outlinewidth": 0,
             "ticks": ""
            },
            "colorscale": [
             [
              0,
              "#0d0887"
             ],
             [
              0.1111111111111111,
              "#46039f"
             ],
             [
              0.2222222222222222,
              "#7201a8"
             ],
             [
              0.3333333333333333,
              "#9c179e"
             ],
             [
              0.4444444444444444,
              "#bd3786"
             ],
             [
              0.5555555555555556,
              "#d8576b"
             ],
             [
              0.6666666666666666,
              "#ed7953"
             ],
             [
              0.7777777777777778,
              "#fb9f3a"
             ],
             [
              0.8888888888888888,
              "#fdca26"
             ],
             [
              1,
              "#f0f921"
             ]
            ],
            "type": "surface"
           }
          ],
          "table": [
           {
            "cells": {
             "fill": {
              "color": "#EBF0F8"
             },
             "line": {
              "color": "white"
             }
            },
            "header": {
             "fill": {
              "color": "#C8D4E3"
             },
             "line": {
              "color": "white"
             }
            },
            "type": "table"
           }
          ]
         },
         "layout": {
          "annotationdefaults": {
           "arrowcolor": "#2a3f5f",
           "arrowhead": 0,
           "arrowwidth": 1
          },
          "autotypenumbers": "strict",
          "coloraxis": {
           "colorbar": {
            "outlinewidth": 0,
            "ticks": ""
           }
          },
          "colorscale": {
           "diverging": [
            [
             0,
             "#8e0152"
            ],
            [
             0.1,
             "#c51b7d"
            ],
            [
             0.2,
             "#de77ae"
            ],
            [
             0.3,
             "#f1b6da"
            ],
            [
             0.4,
             "#fde0ef"
            ],
            [
             0.5,
             "#f7f7f7"
            ],
            [
             0.6,
             "#e6f5d0"
            ],
            [
             0.7,
             "#b8e186"
            ],
            [
             0.8,
             "#7fbc41"
            ],
            [
             0.9,
             "#4d9221"
            ],
            [
             1,
             "#276419"
            ]
           ],
           "sequential": [
            [
             0,
             "#0d0887"
            ],
            [
             0.1111111111111111,
             "#46039f"
            ],
            [
             0.2222222222222222,
             "#7201a8"
            ],
            [
             0.3333333333333333,
             "#9c179e"
            ],
            [
             0.4444444444444444,
             "#bd3786"
            ],
            [
             0.5555555555555556,
             "#d8576b"
            ],
            [
             0.6666666666666666,
             "#ed7953"
            ],
            [
             0.7777777777777778,
             "#fb9f3a"
            ],
            [
             0.8888888888888888,
             "#fdca26"
            ],
            [
             1,
             "#f0f921"
            ]
           ],
           "sequentialminus": [
            [
             0,
             "#0d0887"
            ],
            [
             0.1111111111111111,
             "#46039f"
            ],
            [
             0.2222222222222222,
             "#7201a8"
            ],
            [
             0.3333333333333333,
             "#9c179e"
            ],
            [
             0.4444444444444444,
             "#bd3786"
            ],
            [
             0.5555555555555556,
             "#d8576b"
            ],
            [
             0.6666666666666666,
             "#ed7953"
            ],
            [
             0.7777777777777778,
             "#fb9f3a"
            ],
            [
             0.8888888888888888,
             "#fdca26"
            ],
            [
             1,
             "#f0f921"
            ]
           ]
          },
          "colorway": [
           "#636efa",
           "#EF553B",
           "#00cc96",
           "#ab63fa",
           "#FFA15A",
           "#19d3f3",
           "#FF6692",
           "#B6E880",
           "#FF97FF",
           "#FECB52"
          ],
          "font": {
           "color": "#2a3f5f"
          },
          "geo": {
           "bgcolor": "white",
           "lakecolor": "white",
           "landcolor": "#E5ECF6",
           "showlakes": true,
           "showland": true,
           "subunitcolor": "white"
          },
          "hoverlabel": {
           "align": "left"
          },
          "hovermode": "closest",
          "mapbox": {
           "style": "light"
          },
          "paper_bgcolor": "white",
          "plot_bgcolor": "#E5ECF6",
          "polar": {
           "angularaxis": {
            "gridcolor": "white",
            "linecolor": "white",
            "ticks": ""
           },
           "bgcolor": "#E5ECF6",
           "radialaxis": {
            "gridcolor": "white",
            "linecolor": "white",
            "ticks": ""
           }
          },
          "scene": {
           "xaxis": {
            "backgroundcolor": "#E5ECF6",
            "gridcolor": "white",
            "gridwidth": 2,
            "linecolor": "white",
            "showbackground": true,
            "ticks": "",
            "zerolinecolor": "white"
           },
           "yaxis": {
            "backgroundcolor": "#E5ECF6",
            "gridcolor": "white",
            "gridwidth": 2,
            "linecolor": "white",
            "showbackground": true,
            "ticks": "",
            "zerolinecolor": "white"
           },
           "zaxis": {
            "backgroundcolor": "#E5ECF6",
            "gridcolor": "white",
            "gridwidth": 2,
            "linecolor": "white",
            "showbackground": true,
            "ticks": "",
            "zerolinecolor": "white"
           }
          },
          "shapedefaults": {
           "line": {
            "color": "#2a3f5f"
           }
          },
          "ternary": {
           "aaxis": {
            "gridcolor": "white",
            "linecolor": "white",
            "ticks": ""
           },
           "baxis": {
            "gridcolor": "white",
            "linecolor": "white",
            "ticks": ""
           },
           "bgcolor": "#E5ECF6",
           "caxis": {
            "gridcolor": "white",
            "linecolor": "white",
            "ticks": ""
           }
          },
          "title": {
           "x": 0.05
          },
          "xaxis": {
           "automargin": true,
           "gridcolor": "white",
           "linecolor": "white",
           "ticks": "",
           "title": {
            "standoff": 15
           },
           "zerolinecolor": "white",
           "zerolinewidth": 2
          },
          "yaxis": {
           "automargin": true,
           "gridcolor": "white",
           "linecolor": "white",
           "ticks": "",
           "title": {
            "standoff": 15
           },
           "zerolinecolor": "white",
           "zerolinewidth": 2
          }
         }
        },
        "title": {
         "text": "Fig. 2: Absorption coefficient in function of the energy for CdS obtained from two samples of different thickness",
         "x": 0.5
        },
        "xaxis": {
         "anchor": "y",
         "domain": [
          0,
          1
         ],
         "title": {
          "text": "Energy (eV)"
         }
        },
        "yaxis": {
         "anchor": "x",
         "domain": [
          0,
          1
         ],
         "title": {
          "text": "Alpha (cm^-1)"
         }
        }
       }
      }
     },
     "metadata": {},
     "output_type": "display_data"
    }
   ],
   "source": [
    "fig_2 = px.line(\n",
    "    df_abs,\n",
    "    x=\"Energy (eV)\",\n",
    "    y=\"Alpha (cm^-1)\",\n",
    "    markers=True,\n",
    "    title=\"Fig. 2: Absorption coefficient in function of the energy for CdS obtained from two samples of different thickness\"\n",
    ")\n",
    "\n",
    "fig_2.update_layout(title_x=0.5)\n",
    "fig_2[\"data\"][0][\"showlegend\"] = True\n",
    "fig_2[\"data\"][0][\"name\"] = \"alpha(hv)\"\n",
    "fig_2.show()"
   ]
  },
  {
   "attachments": {},
   "cell_type": "markdown",
   "metadata": {},
   "source": [
    "As we can see, the absorption coefficient will vary from $2.33$ $eV$ or for wavelengths less than $532.18$ $nm$."
   ]
  },
  {
   "attachments": {},
   "cell_type": "markdown",
   "metadata": {},
   "source": [
    "Considering the squared absorption coefficient and plotting again in function of the energy:"
   ]
  },
  {
   "cell_type": "code",
   "execution_count": 12,
   "metadata": {},
   "outputs": [
    {
     "data": {
      "application/vnd.plotly.v1+json": {
       "config": {
        "plotlyServerURL": "https://plot.ly"
       },
       "data": [
        {
         "hovertemplate": "Energy (eV)=%{x}<br>Alpha^2 (cm^-2)=%{y}<extra></extra>",
         "legendgroup": "",
         "line": {
          "color": "#636efa",
          "dash": "solid"
         },
         "marker": {
          "symbol": "circle"
         },
         "mode": "lines+markers",
         "name": "alpha^2(hv)",
         "orientation": "v",
         "showlegend": true,
         "type": "scatter",
         "x": [
          3.2630205043998144,
          3.246013816500745,
          3.229183485330653,
          3.2125351047182815,
          3.195760977696681,
          3.179462722081625,
          3.163337933779092,
          3.147080321611305,
          3.1312894094236663,
          3.1156640007638403,
          3.0999070027899163,
          3.0846001338318443,
          3.0691701854867857,
          3.0541721469352368,
          3.0393274262534162,
          3.02436073794402,
          3.0098110129955873,
          2.995140143573492,
          2.9808767143046024,
          2.966500080143349,
          2.9522614560839204,
          2.938416477881307,
          2.9244593287894154,
          2.910880118688789,
          2.897189492547915,
          2.88363375060754,
          2.870450105095512,
          2.8571494404364985,
          2.8439714685442996,
          2.831160113520388,
          2.8182330587828868,
          2.8054298642533935,
          2.792748762969953,
          2.7801817880156228,
          2.767962177136186,
          2.755622915226817,
          2.743405318223955,
          2.731295581248334,
          2.719298245614035,
          2.7074117580272574,
          2.6956287336631855,
          2.683953636865402,
          2.672384995851338,
          2.6609213654818413,
          2.6495556652414622,
          2.6382978723404253,
          2.6271353419619192,
          2.6160668700447682,
          2.605102218748753,
          2.594229095534579,
          2.583257988308674,
          2.572576746810731,
          2.561988764439596,
          2.5514875789880884,
          2.540889885209152,
          2.5305760938109048,
          2.5203405711823446,
          2.5101976780671476,
          2.499959678069709,
          2.489984839205213,
          2.4799156828667828,
          2.470109680837925,
          2.4603858043675815,
          2.4505638273063957,
          2.441002543367166,
          2.4313439449731966,
          2.42194122495537,
          2.41244197493395,
          2.4030216058773255,
          2.3938408790801473,
          2.3845741131403493,
          2.3755426390746113,
          2.3664257619795537,
          2.3573785950023574,
          2.34840478923067,
          2.3396623716251788,
          2.3308314489312947,
          2.322071287588529,
          2.313381043707977,
          2.3047556029723912,
          2.296355831447482,
          2.287865089761804,
          2.279445285960088,
          2.2710872280647774,
          2.262794368561757,
          2.254570049855089,
          2.246405298617917,
          2.238303510345836,
          2.230263962531565,
          2.222285943682973,
          2.2142264046498754,
          2.206370360617001,
          2.1985737639228233,
          2.19083594525737,
          2.1831524016437025,
          2.175396615153041,
          2.167828377922416,
          2.160320145508015,
          2.152732929175087,
          2.1453361430316367,
          2.137990013517614,
          2.1305695493501764,
          2.1233349372503154,
          2.1160229008284914,
          2.108893749170899,
          2.1016877908888447,
          2.094534447490528,
          2.087559659593094,
          2.0805089864565574,
          2.073634077165944,
          2.066687333540002,
          2.0597869781596136,
          2.0529393455759157,
          2.0462586470929924,
          2.0395038742349807,
          2.0328002150833777,
          2.026143790849673,
          2.0195341065108803,
          2.0129706739393347,
          2.0064530117830572,
          1.9999806453485935,
          1.9935531064862824,
          1.9871699334778838,
          1.9808338351978196,
          1.9745380138376898,
          1.9682883351931542,
          1.961972541877829,
          1.9558081983063331,
          1.949685534591195,
          1.9436041317262025,
          1.9374576181146037,
          1.9314611659483396,
          1.9255017174233058,
          1.9194808733018784,
          1.9136038716527366,
          1.9076629590313996,
          1.9018638265500192,
          1.8960012721556923,
          1.890281362283094,
          1.884498480243161,
          1.8787537196293402,
          1.873145736780727,
          1.8674755044442903,
          1.8618450884826865,
          1.856251300498643,
          1.8507877042023329,
          1.8452683005227764,
          1.8397817188012338,
          1.8343330941796907,
          1.8289193446569008,
          1.8235401384714027,
          1.8181978140570152,
          1.8128867004292448,
          1.8076117949585122,
          1.802281048288051,
          1.7970754047042796,
          1.7918997460993664,
          1.7867589633339769,
          1.7816527127817778,
          1.7764890273149516,
          1.7714437552321876,
          1.766346540097491,
          1.7613686402518187,
          1.756334134070616,
          1.7514173768852452,
          1.7464468960427484,
          1.7415926021640693,
          1.7366849485437057,
          1.731807294539919,
          1.7270435521386092,
          1.722224614200853,
          1.7174372512139788,
          1.7126811609215882,
          1.7079536924168233,
          1.7033341392118506,
          1.6986650410624875,
          1.6940237846403956,
          1.689410123381436,
          1.6847482727933534,
          1.680191758659424,
          1.6756643536192324,
          1.6711635341335151,
          1.666689068401457,
          1.662167197934623,
          1.657747361975821,
          1.6533553780717076,
          1.6489142431616601,
          1.6445754210245704,
          1.6401877750456013,
          1.6358990122600077,
          1.631563919806002,
          1.6273286219545005,
          1.6230451468332294,
          1.6187862758255158,
          1.6145560036093138,
          1.6104188907330783,
          1.6062363421335224,
          1.6020775328005994,
          1.5979443219496983,
          1.5938364800892548,
          1.5897517423166274,
          1.5856919435340213,
          1.5816548446470549,
          1.5775760289866874,
          1.573586088483761,
          1.5696202531645569,
          1.5656763342971503,
          1.5616912108270542,
          1.557792858776027,
          1.553853556820916,
          1.5500019375024219,
          1.546107673930879,
          1.5423000669159221,
          1.538450085979509,
          1.5346230767707572,
          1.5308812073220568,
          1.5270973573826536,
          1.523335909081416,
          1.5195948073974856,
          1.5158757421984355,
          1.512178524869849,
          1.5085011338089167,
          1.5048452375895778,
          1.5012106537530265,
          1.4975972019087116,
          1.4940029036669338,
          1.4903702849011067,
          1.4868158998173855,
          1.4832252014315517,
          1.4797118380526992,
          1.4762168372054263,
          1.4726858345437464,
          1.4691751647786582,
          1.4657383657017222,
          1.4622658753135322,
          1.4588132319065983,
          1.4553802709119954,
          1.4519651294181015,
          1.4486235155989884,
          1.4452467117723502,
          1.4418353168258693,
          1.4384950557532843,
          1.4351735576216398,
          1.4318706697459584,
          1.4285862411015782,
          1.4252676974570466,
          1.4220183486238531,
          1.4187870286251725,
          1.4155234982608467,
          1.41227655563971,
          1.4090973140787004,
          1.4058861277587682,
          1.4026927175361477,
          1.399565908831825,
          1.3964074041124197,
          1.3932646888300622,
          1.390139204504051,
          1.3870323659528296,
          1.3839409280440005,
          1.3808663154366378,
          1.3777594076523425,
          1.3747182659037718,
          1.3716935548102196,
          1.3686368046304074,
          1.3656447825761346,
          1.3626208913958184,
          1.3596610496583303,
          1.3566695076493185,
          1.3536940564097415,
          1.3507816559493762,
          1.3478378072852808,
          1.3449111382503574,
          1.3419986038885492,
          1.3391029953790146,
          1.3362212954880979,
          1.3333118283038445,
          1.3304606827409207,
          1.3276259692204908,
          1.3248061402627818,
          1.3219573924603651,
          1.319167179971638,
          1.316348195329087,
          1.3135440159065943,
          1.3107988684845895,
          1.3080237764967115,
          1.3052645318574019,
          1.302519640210462,
          1.2997889939318723,
          1.2970724864774963,
          1.2943713634949696,
          1.2916841582229759,
          1.2889692300175986,
          1.2863097226342792,
          1.2836638250076347,
          1.28099173553719,
          1.2783347010140083,
          1.2757306644499131,
          1.2730993089329476,
          1.2704826912102065,
          1.2678806965163956,
          1.2652919201927326,
          1.2627162656184765,
          1.2601536371184352,
          1.2576052154105322,
          1.2550696209386099,
          1.2525088054399285,
          1.25,
          1.2475037349658193,
          1.244982419643413,
          1.242475010220359,
          1.2400173602430433,
          1.2375360656932048,
          1.235067141835509,
          1.2326105000521872,
          1.2301672729870148,
          1.2277373592557534,
          1.2252831243929168,
          1.2228772724314154,
          1.2204844535871415,
          1.2180686735330377,
          1.2157005768695317,
          1.2133084278947435,
          1.2109304047046598,
          1.2085640407364053,
          1.2062092539595766,
          1.2038671319030616,
          1.2015375805102853,
          1.1992193468896697,
          1.196913507555034,
          1.1946188202561108,
          1.1923031065265135,
          1.190031756573246,
          1.1877394636015326,
          1.1854593846318575,
          1.1831903008929272,
          1.1809670024486016,
          1.1787206698175263,
          1.1764549616988011,
          1.1742324165797828,
          1.172022684310019,
          1.1698223568146868,
          1.1676027890640814,
          1.165425582407337,
          1.1632291993043138,
          1.1610432535428203,
          1.158868757178678,
          1.156704548740638,
          1.1545527085899652,
          1.1524120728175733,
          1.1502814942898727,
          1.1481619686162887,
          1.1460237596603333,
          1.1439262130691723,
          1.1418100451659539,
          1.1397037873092146,
          1.1376094605070617,
          1.135524896383353,
          1.1334521020509085,
          1.1313889258922005,
          1.1293373613032553,
          1.127266578545935
         ],
         "xaxis": "x",
         "y": [
          10529699443.825865,
          10328042901.574144,
          10125877362.155697,
          9929403193.31446,
          9756062935.228891,
          9561811619.09573,
          9365694356.486698,
          9178738451.104435,
          8973068303.074003,
          8795336465.82601,
          8603118642.73085,
          8392305245.928829,
          8183948751.86768,
          7989661577.013624,
          7801724280.864898,
          7592853466.748448,
          7397799700.92825,
          7174062823.238898,
          6978718449.5157,
          6778786731.1314125,
          6576488362.766987,
          6384051664.27366,
          6192452975.428481,
          5996920753.714909,
          5815328638.004397,
          5619003472.05703,
          5434688028.493601,
          5260476140.838547,
          5102390642.161936,
          4949010230.217554,
          4797230387.126546,
          4655283857.237173,
          4514285455.861896,
          4386391477.873152,
          4238749516.6836176,
          4113259745.098548,
          3993073882.4152613,
          3888057659.626606,
          3769671200.7526307,
          3663343572.3177886,
          3558432288.921591,
          3462423616.966432,
          3369897701.749581,
          3283912634.7989235,
          3194380271.9920583,
          3095170803.273189,
          2990594296.6676607,
          2898321978.019146,
          2792918417.6747966,
          2666923747.3336253,
          2538251856.975437,
          2413994123.90784,
          2274867579.2598157,
          2130530495.1136026,
          1978722268.1420958,
          1820132536.783762,
          1649638370.381498,
          1460741264.9607472,
          1278989779.5401742,
          1108597157.208052,
          939254672.457911,
          782604850.427695,
          628944549.4079114,
          504385922.83859956,
          392473638.41424096,
          298774088.5170497,
          218071620.2382612,
          156379076.07054764,
          106272803.14737818,
          68941394.5136496,
          42103212.20004101,
          23843472.66121375,
          11304703.893522928,
          4542737.828926265,
          1400434.0351798371,
          166722.49392900307,
          59146.40210477491,
          584810.8986759742,
          1725472.1309047153,
          2416028.4967987174,
          3306748.9203366716,
          4086663.071216723,
          3955743.772458961,
          4022213.492143657,
          3949013.846546759,
          3815775.905204543,
          3218224.679293439,
          2425896.6342650307,
          2024936.0896413967,
          1657054.6614491818,
          1502152.975810456,
          1181048.9249005227,
          1203990.6911547754,
          1083307.5656258764,
          777135.0816998906,
          676139.8671882129,
          467720.7026460502,
          177678.69553922414,
          71796.0305504185,
          37155.44020993112,
          8305.573036115726,
          43.56136891286322,
          4690.011153815438,
          77067.54327629737,
          187149.5445355473,
          339239.6754404495,
          647376.7949426465,
          846063.4544025167,
          1258054.6103221006,
          1745423.722930621,
          2372440.8247549427,
          2468590.955323206,
          2636314.775284634,
          2849984.328171153,
          3228960.2928995234,
          3652791.811277931,
          3988777.541465334,
          4617854.916740546,
          5679983.013494959,
          6250431.953250239,
          7069544.149482032,
          7753599.382065962,
          7983747.516498789,
          8492937.369083807,
          9520298.86162437,
          10535932.488291446,
          11252729.089007184,
          11874608.593418028,
          13057548.92308697,
          13226040.8035912,
          13803739.113638313,
          13759275.530027006,
          14644718.188609721,
          14937776.388072677,
          15449640.339671388,
          15780625.201174404,
          16830346.435069617,
          18661441.50731029,
          20259422.739851538,
          21111327.8693405,
          22682809.21063967,
          24154025.026047368,
          26426532.873558003,
          27642544.865144,
          29029072.850700404,
          29827926.45122249,
          32125380.740927543,
          34246767.52545538,
          37159185.311375625,
          38126889.55498423,
          39998341.139935784,
          41845320.37182883,
          43407579.004132375,
          44860602.00293198,
          46613733.895414785,
          47799702.50422073,
          49284195.28570004,
          49418611.72054846,
          50288491.1747199,
          50653163.22145839,
          50838228.17534654,
          50437211.67481676,
          51145293.41903088,
          51787345.556578994,
          52308397.622809,
          51732479.90830153,
          53463845.42560804,
          53655716.49565949,
          53836434.3162487,
          53353114.655301355,
          55081827.69569324,
          56198248.237021215,
          59757798.52295768,
          60477888.49117633,
          63065152.332701206,
          63511727.12867848,
          64845007.13883454,
          66621257.31759266,
          67894305.76624465,
          67680166.31669533,
          66206124.95681978,
          66318550.63987606,
          67301213.66313823,
          66943814.70521583,
          66388192.09928278,
          67567566.99001572,
          70413525.57983747,
          70270552.32342978,
          71893789.66272722,
          73521374.288286,
          75763912.8902166,
          76679223.54309668,
          78512260.57808761,
          80919007.25698707,
          83458312.25606741,
          86109375.8503278,
          89217302.57552512,
          89622373.11776274,
          91928488.80911092,
          93568628.65506256,
          95946586.68660377,
          98509040.44785775,
          97950544.73262896,
          99135608.54862295,
          99213084.31384653,
          101332435.00528769,
          102219554.16987167,
          100590942.46884903,
          101140016.99023037,
          102022640.91732557,
          103486445.24987523,
          101483589.72963947,
          102102860.06970759,
          101900517.80006517,
          101428182.47163163,
          100276955.28975257,
          99512904.06493168,
          96920540.46852596,
          96622522.14997657,
          95797046.8660525,
          96872396.08536352,
          97885083.81736632,
          97760527.51056854,
          99627934.74710698,
          101868614.63954206,
          104148440.64527495,
          103675115.81696302,
          105604885.65062697,
          105389454.98939297,
          105611030.17648129,
          106016119.18734793,
          109870385.66637108,
          110859385.01999362,
          111180256.87491028,
          112705548.13612117,
          111975536.78464562,
          113350658.59360385,
          115415417.19874373,
          115904436.74381773,
          117958171.59749052,
          117878647.57522151,
          116504510.30362141,
          118780982.24263106,
          118289480.01082735,
          119642215.43422902,
          120180197.81444667,
          122508911.39161761,
          125029582.50741404,
          127839493.66178022,
          127108200.49679142,
          128702549.37312129,
          129342579.47850108,
          130476335.36634833,
          130814960.28513536,
          134033956.816575,
          136124070.55678755,
          132069738.23405072,
          130775923.6333307,
          133358275.6738042,
          133681454.95683767,
          133119185.23018229,
          134143945.15365799,
          133912302.49195911,
          134762451.48991203,
          131052880.30374591,
          131081165.43518646,
          132986282.16793764,
          132552934.91496769,
          132771806.90222768,
          132288807.85645552,
          134078411.15138522,
          138019172.3947958,
          142027073.51441702,
          141367703.2147884,
          142169540.88264608,
          142472466.51121286,
          142632463.48456082,
          144209629.02616942,
          145433733.91928792,
          145206054.9087449,
          145757473.42742714,
          148116774.72773874,
          150543054.8386238,
          150673256.40380275,
          149725103.05167845,
          147882518.97841364,
          147393354.42704692,
          149215102.7172203,
          150298069.55699685,
          150706689.69622108,
          152885045.61165497,
          152156454.18264472,
          151478225.68347514,
          153004981.61940297,
          157109285.65217233,
          160106944.52109078,
          159496473.56610212,
          159702669.37454385,
          160611394.74910387,
          163380984.27143782,
          161722440.5111728,
          161732324.49732968,
          162297973.33348155,
          165251551.72518852,
          164698396.2735425,
          163265645.52096447,
          161392530.25977838,
          157980506.00228697,
          153220939.7939497,
          151794282.25678366,
          153940033.8918322,
          153821667.70602477,
          151858730.8896468,
          149635481.34070593,
          149539726.4028844,
          149524755.4200789,
          150601909.26197562,
          152075724.37185854,
          153433619.47744358,
          154477352.95004967,
          155559998.53557217,
          153742474.9253697,
          152664007.13195497,
          151516532.69132292,
          148276377.79339045,
          148086927.01178738,
          148826312.38804132,
          149984230.88017318,
          147368789.4848446,
          145320728.1532214,
          144402140.91856658,
          140601033.83560583,
          139389095.5581384,
          140469297.2483081,
          139802139.56731632,
          137880509.6142848,
          135699538.86446342,
          133517209.20874798,
          132458684.94046481,
          132788273.28363387,
          131839019.3481622,
          128857095.49479234,
          126401338.44609757,
          123372982.44550858,
          120199668.86275424,
          119339938.74577694,
          119197030.86305477,
          118505353.16815159,
          117442421.54037961,
          120193660.87829709,
          122356895.73433562,
          124248057.86093292,
          123747092.23507626,
          124288412.05029887,
          125494311.27544658,
          124942841.65684244,
          127886531.82320976,
          128988952.43804759,
          127209621.41352837,
          126866973.76955937,
          124100637.71005148
         ],
         "yaxis": "y"
        }
       ],
       "layout": {
        "legend": {
         "tracegroupgap": 0
        },
        "template": {
         "data": {
          "bar": [
           {
            "error_x": {
             "color": "#2a3f5f"
            },
            "error_y": {
             "color": "#2a3f5f"
            },
            "marker": {
             "line": {
              "color": "#E5ECF6",
              "width": 0.5
             },
             "pattern": {
              "fillmode": "overlay",
              "size": 10,
              "solidity": 0.2
             }
            },
            "type": "bar"
           }
          ],
          "barpolar": [
           {
            "marker": {
             "line": {
              "color": "#E5ECF6",
              "width": 0.5
             },
             "pattern": {
              "fillmode": "overlay",
              "size": 10,
              "solidity": 0.2
             }
            },
            "type": "barpolar"
           }
          ],
          "carpet": [
           {
            "aaxis": {
             "endlinecolor": "#2a3f5f",
             "gridcolor": "white",
             "linecolor": "white",
             "minorgridcolor": "white",
             "startlinecolor": "#2a3f5f"
            },
            "baxis": {
             "endlinecolor": "#2a3f5f",
             "gridcolor": "white",
             "linecolor": "white",
             "minorgridcolor": "white",
             "startlinecolor": "#2a3f5f"
            },
            "type": "carpet"
           }
          ],
          "choropleth": [
           {
            "colorbar": {
             "outlinewidth": 0,
             "ticks": ""
            },
            "type": "choropleth"
           }
          ],
          "contour": [
           {
            "colorbar": {
             "outlinewidth": 0,
             "ticks": ""
            },
            "colorscale": [
             [
              0,
              "#0d0887"
             ],
             [
              0.1111111111111111,
              "#46039f"
             ],
             [
              0.2222222222222222,
              "#7201a8"
             ],
             [
              0.3333333333333333,
              "#9c179e"
             ],
             [
              0.4444444444444444,
              "#bd3786"
             ],
             [
              0.5555555555555556,
              "#d8576b"
             ],
             [
              0.6666666666666666,
              "#ed7953"
             ],
             [
              0.7777777777777778,
              "#fb9f3a"
             ],
             [
              0.8888888888888888,
              "#fdca26"
             ],
             [
              1,
              "#f0f921"
             ]
            ],
            "type": "contour"
           }
          ],
          "contourcarpet": [
           {
            "colorbar": {
             "outlinewidth": 0,
             "ticks": ""
            },
            "type": "contourcarpet"
           }
          ],
          "heatmap": [
           {
            "colorbar": {
             "outlinewidth": 0,
             "ticks": ""
            },
            "colorscale": [
             [
              0,
              "#0d0887"
             ],
             [
              0.1111111111111111,
              "#46039f"
             ],
             [
              0.2222222222222222,
              "#7201a8"
             ],
             [
              0.3333333333333333,
              "#9c179e"
             ],
             [
              0.4444444444444444,
              "#bd3786"
             ],
             [
              0.5555555555555556,
              "#d8576b"
             ],
             [
              0.6666666666666666,
              "#ed7953"
             ],
             [
              0.7777777777777778,
              "#fb9f3a"
             ],
             [
              0.8888888888888888,
              "#fdca26"
             ],
             [
              1,
              "#f0f921"
             ]
            ],
            "type": "heatmap"
           }
          ],
          "heatmapgl": [
           {
            "colorbar": {
             "outlinewidth": 0,
             "ticks": ""
            },
            "colorscale": [
             [
              0,
              "#0d0887"
             ],
             [
              0.1111111111111111,
              "#46039f"
             ],
             [
              0.2222222222222222,
              "#7201a8"
             ],
             [
              0.3333333333333333,
              "#9c179e"
             ],
             [
              0.4444444444444444,
              "#bd3786"
             ],
             [
              0.5555555555555556,
              "#d8576b"
             ],
             [
              0.6666666666666666,
              "#ed7953"
             ],
             [
              0.7777777777777778,
              "#fb9f3a"
             ],
             [
              0.8888888888888888,
              "#fdca26"
             ],
             [
              1,
              "#f0f921"
             ]
            ],
            "type": "heatmapgl"
           }
          ],
          "histogram": [
           {
            "marker": {
             "pattern": {
              "fillmode": "overlay",
              "size": 10,
              "solidity": 0.2
             }
            },
            "type": "histogram"
           }
          ],
          "histogram2d": [
           {
            "colorbar": {
             "outlinewidth": 0,
             "ticks": ""
            },
            "colorscale": [
             [
              0,
              "#0d0887"
             ],
             [
              0.1111111111111111,
              "#46039f"
             ],
             [
              0.2222222222222222,
              "#7201a8"
             ],
             [
              0.3333333333333333,
              "#9c179e"
             ],
             [
              0.4444444444444444,
              "#bd3786"
             ],
             [
              0.5555555555555556,
              "#d8576b"
             ],
             [
              0.6666666666666666,
              "#ed7953"
             ],
             [
              0.7777777777777778,
              "#fb9f3a"
             ],
             [
              0.8888888888888888,
              "#fdca26"
             ],
             [
              1,
              "#f0f921"
             ]
            ],
            "type": "histogram2d"
           }
          ],
          "histogram2dcontour": [
           {
            "colorbar": {
             "outlinewidth": 0,
             "ticks": ""
            },
            "colorscale": [
             [
              0,
              "#0d0887"
             ],
             [
              0.1111111111111111,
              "#46039f"
             ],
             [
              0.2222222222222222,
              "#7201a8"
             ],
             [
              0.3333333333333333,
              "#9c179e"
             ],
             [
              0.4444444444444444,
              "#bd3786"
             ],
             [
              0.5555555555555556,
              "#d8576b"
             ],
             [
              0.6666666666666666,
              "#ed7953"
             ],
             [
              0.7777777777777778,
              "#fb9f3a"
             ],
             [
              0.8888888888888888,
              "#fdca26"
             ],
             [
              1,
              "#f0f921"
             ]
            ],
            "type": "histogram2dcontour"
           }
          ],
          "mesh3d": [
           {
            "colorbar": {
             "outlinewidth": 0,
             "ticks": ""
            },
            "type": "mesh3d"
           }
          ],
          "parcoords": [
           {
            "line": {
             "colorbar": {
              "outlinewidth": 0,
              "ticks": ""
             }
            },
            "type": "parcoords"
           }
          ],
          "pie": [
           {
            "automargin": true,
            "type": "pie"
           }
          ],
          "scatter": [
           {
            "fillpattern": {
             "fillmode": "overlay",
             "size": 10,
             "solidity": 0.2
            },
            "type": "scatter"
           }
          ],
          "scatter3d": [
           {
            "line": {
             "colorbar": {
              "outlinewidth": 0,
              "ticks": ""
             }
            },
            "marker": {
             "colorbar": {
              "outlinewidth": 0,
              "ticks": ""
             }
            },
            "type": "scatter3d"
           }
          ],
          "scattercarpet": [
           {
            "marker": {
             "colorbar": {
              "outlinewidth": 0,
              "ticks": ""
             }
            },
            "type": "scattercarpet"
           }
          ],
          "scattergeo": [
           {
            "marker": {
             "colorbar": {
              "outlinewidth": 0,
              "ticks": ""
             }
            },
            "type": "scattergeo"
           }
          ],
          "scattergl": [
           {
            "marker": {
             "colorbar": {
              "outlinewidth": 0,
              "ticks": ""
             }
            },
            "type": "scattergl"
           }
          ],
          "scattermapbox": [
           {
            "marker": {
             "colorbar": {
              "outlinewidth": 0,
              "ticks": ""
             }
            },
            "type": "scattermapbox"
           }
          ],
          "scatterpolar": [
           {
            "marker": {
             "colorbar": {
              "outlinewidth": 0,
              "ticks": ""
             }
            },
            "type": "scatterpolar"
           }
          ],
          "scatterpolargl": [
           {
            "marker": {
             "colorbar": {
              "outlinewidth": 0,
              "ticks": ""
             }
            },
            "type": "scatterpolargl"
           }
          ],
          "scatterternary": [
           {
            "marker": {
             "colorbar": {
              "outlinewidth": 0,
              "ticks": ""
             }
            },
            "type": "scatterternary"
           }
          ],
          "surface": [
           {
            "colorbar": {
             "outlinewidth": 0,
             "ticks": ""
            },
            "colorscale": [
             [
              0,
              "#0d0887"
             ],
             [
              0.1111111111111111,
              "#46039f"
             ],
             [
              0.2222222222222222,
              "#7201a8"
             ],
             [
              0.3333333333333333,
              "#9c179e"
             ],
             [
              0.4444444444444444,
              "#bd3786"
             ],
             [
              0.5555555555555556,
              "#d8576b"
             ],
             [
              0.6666666666666666,
              "#ed7953"
             ],
             [
              0.7777777777777778,
              "#fb9f3a"
             ],
             [
              0.8888888888888888,
              "#fdca26"
             ],
             [
              1,
              "#f0f921"
             ]
            ],
            "type": "surface"
           }
          ],
          "table": [
           {
            "cells": {
             "fill": {
              "color": "#EBF0F8"
             },
             "line": {
              "color": "white"
             }
            },
            "header": {
             "fill": {
              "color": "#C8D4E3"
             },
             "line": {
              "color": "white"
             }
            },
            "type": "table"
           }
          ]
         },
         "layout": {
          "annotationdefaults": {
           "arrowcolor": "#2a3f5f",
           "arrowhead": 0,
           "arrowwidth": 1
          },
          "autotypenumbers": "strict",
          "coloraxis": {
           "colorbar": {
            "outlinewidth": 0,
            "ticks": ""
           }
          },
          "colorscale": {
           "diverging": [
            [
             0,
             "#8e0152"
            ],
            [
             0.1,
             "#c51b7d"
            ],
            [
             0.2,
             "#de77ae"
            ],
            [
             0.3,
             "#f1b6da"
            ],
            [
             0.4,
             "#fde0ef"
            ],
            [
             0.5,
             "#f7f7f7"
            ],
            [
             0.6,
             "#e6f5d0"
            ],
            [
             0.7,
             "#b8e186"
            ],
            [
             0.8,
             "#7fbc41"
            ],
            [
             0.9,
             "#4d9221"
            ],
            [
             1,
             "#276419"
            ]
           ],
           "sequential": [
            [
             0,
             "#0d0887"
            ],
            [
             0.1111111111111111,
             "#46039f"
            ],
            [
             0.2222222222222222,
             "#7201a8"
            ],
            [
             0.3333333333333333,
             "#9c179e"
            ],
            [
             0.4444444444444444,
             "#bd3786"
            ],
            [
             0.5555555555555556,
             "#d8576b"
            ],
            [
             0.6666666666666666,
             "#ed7953"
            ],
            [
             0.7777777777777778,
             "#fb9f3a"
            ],
            [
             0.8888888888888888,
             "#fdca26"
            ],
            [
             1,
             "#f0f921"
            ]
           ],
           "sequentialminus": [
            [
             0,
             "#0d0887"
            ],
            [
             0.1111111111111111,
             "#46039f"
            ],
            [
             0.2222222222222222,
             "#7201a8"
            ],
            [
             0.3333333333333333,
             "#9c179e"
            ],
            [
             0.4444444444444444,
             "#bd3786"
            ],
            [
             0.5555555555555556,
             "#d8576b"
            ],
            [
             0.6666666666666666,
             "#ed7953"
            ],
            [
             0.7777777777777778,
             "#fb9f3a"
            ],
            [
             0.8888888888888888,
             "#fdca26"
            ],
            [
             1,
             "#f0f921"
            ]
           ]
          },
          "colorway": [
           "#636efa",
           "#EF553B",
           "#00cc96",
           "#ab63fa",
           "#FFA15A",
           "#19d3f3",
           "#FF6692",
           "#B6E880",
           "#FF97FF",
           "#FECB52"
          ],
          "font": {
           "color": "#2a3f5f"
          },
          "geo": {
           "bgcolor": "white",
           "lakecolor": "white",
           "landcolor": "#E5ECF6",
           "showlakes": true,
           "showland": true,
           "subunitcolor": "white"
          },
          "hoverlabel": {
           "align": "left"
          },
          "hovermode": "closest",
          "mapbox": {
           "style": "light"
          },
          "paper_bgcolor": "white",
          "plot_bgcolor": "#E5ECF6",
          "polar": {
           "angularaxis": {
            "gridcolor": "white",
            "linecolor": "white",
            "ticks": ""
           },
           "bgcolor": "#E5ECF6",
           "radialaxis": {
            "gridcolor": "white",
            "linecolor": "white",
            "ticks": ""
           }
          },
          "scene": {
           "xaxis": {
            "backgroundcolor": "#E5ECF6",
            "gridcolor": "white",
            "gridwidth": 2,
            "linecolor": "white",
            "showbackground": true,
            "ticks": "",
            "zerolinecolor": "white"
           },
           "yaxis": {
            "backgroundcolor": "#E5ECF6",
            "gridcolor": "white",
            "gridwidth": 2,
            "linecolor": "white",
            "showbackground": true,
            "ticks": "",
            "zerolinecolor": "white"
           },
           "zaxis": {
            "backgroundcolor": "#E5ECF6",
            "gridcolor": "white",
            "gridwidth": 2,
            "linecolor": "white",
            "showbackground": true,
            "ticks": "",
            "zerolinecolor": "white"
           }
          },
          "shapedefaults": {
           "line": {
            "color": "#2a3f5f"
           }
          },
          "ternary": {
           "aaxis": {
            "gridcolor": "white",
            "linecolor": "white",
            "ticks": ""
           },
           "baxis": {
            "gridcolor": "white",
            "linecolor": "white",
            "ticks": ""
           },
           "bgcolor": "#E5ECF6",
           "caxis": {
            "gridcolor": "white",
            "linecolor": "white",
            "ticks": ""
           }
          },
          "title": {
           "x": 0.05
          },
          "xaxis": {
           "automargin": true,
           "gridcolor": "white",
           "linecolor": "white",
           "ticks": "",
           "title": {
            "standoff": 15
           },
           "zerolinecolor": "white",
           "zerolinewidth": 2
          },
          "yaxis": {
           "automargin": true,
           "gridcolor": "white",
           "linecolor": "white",
           "ticks": "",
           "title": {
            "standoff": 15
           },
           "zerolinecolor": "white",
           "zerolinewidth": 2
          }
         }
        },
        "title": {
         "text": "Fig. 3: Squared absorption coefficient",
         "x": 0.5
        },
        "xaxis": {
         "anchor": "y",
         "domain": [
          0,
          1
         ],
         "title": {
          "text": "Energy (eV)"
         }
        },
        "yaxis": {
         "anchor": "x",
         "domain": [
          0,
          1
         ],
         "title": {
          "text": "Alpha^2 (cm^-2)"
         }
        }
       }
      }
     },
     "metadata": {},
     "output_type": "display_data"
    }
   ],
   "source": [
    "# Plotting squared absorption coefficient\n",
    "df_abs[\"Alpha^2 (cm^-2)\"] = df_abs[\"Alpha (cm^-1)\"] ** 2\n",
    "fig_3 = px.line(\n",
    "    df_abs,\n",
    "    x=\"Energy (eV)\",\n",
    "    y=\"Alpha^2 (cm^-2)\",\n",
    "    markers=True,\n",
    "    title=\"Fig. 3: Squared absorption coefficient\"\n",
    ")\n",
    "\n",
    "fig_3.update_layout(title_x=0.5)\n",
    "fig_3[\"data\"][0][\"showlegend\"] = True\n",
    "fig_3[\"data\"][0][\"name\"] = \"alpha^2(hv)\"\n",
    "fig_3.show()"
   ]
  },
  {
   "attachments": {},
   "cell_type": "markdown",
   "metadata": {},
   "source": [
    "Now, we can see a linear behaviour from $2.37$ $eV$ or, in terms of wavelength, $523.30$ $nm$."
   ]
  },
  {
   "attachments": {},
   "cell_type": "markdown",
   "metadata": {},
   "source": [
    "Adjusting the curve where the values of energy are greater or equal than $2.37$ $eV$ in Figure 3:"
   ]
  },
  {
   "cell_type": "code",
   "execution_count": 13,
   "metadata": {},
   "outputs": [
    {
     "data": {
      "image/png": "[encoded data removed]",
      "text/plain": [
       "<Figure size 1000x1000 with 1 Axes>"
      ]
     },
     "metadata": {},
     "output_type": "display_data"
    }
   ],
   "source": [
    "# Adjusting the curve to obtain the energy gap\n",
    "slope, inter, r, p, se = linregress(\n",
    "    x=df_abs[df_abs[\"Energy (eV)\"] >= 2.375543][\"Energy (eV)\"],\n",
    "    y=df_abs[df_abs[\"Energy (eV)\"] >= 2.375543][\"Alpha^2 (cm^-2)\"]\n",
    ")\n",
    "\n",
    "fig_3_1, ax = plt.subplots(figsize=(10, 10))\n",
    "ax.scatter(data=df_abs, x=\"Energy (eV)\", y=\"Alpha^2 (cm^-2)\", color=\"orange\")\n",
    "ax.plot(\n",
    "    df_abs[df_abs[\"Energy (eV)\"] >= 2.375543][\"Energy (eV)\"],\n",
    "    slope*df_abs[df_abs[\"Energy (eV)\"] >= 2.375543][\"Energy (eV)\"]+inter,\n",
    "    color=\"red\"\n",
    ")\n",
    "\n",
    "plt.title(\"Fig. 3.1: Squared absorption coefficient vs. energy of CdS obtained from two samples of different thickness with its adjusment\")\n",
    "plt.legend([\"Alpha^-2(hv)\", f\"{'{:.2e}'.format(slope)}*E+{'{:.2e}'.format(inter)}\"])\n",
    "plt.ylim(0, 1.1E10)\n",
    "plt.show()"
   ]
  },
  {
   "attachments": {},
   "cell_type": "markdown",
   "metadata": {},
   "source": [
    "It will be enough to make the adjustment equation equal to zero to find the energy gap. Doing this:"
   ]
  },
  {
   "cell_type": "code",
   "execution_count": 14,
   "metadata": {},
   "outputs": [
    {
     "name": "stdout",
     "output_type": "stream",
     "text": [
      "E_g=2.4 eV\n"
     ]
    }
   ],
   "source": [
    "# Calculating energy gap\n",
    "Eg = round(-inter / slope, 2)\n",
    "print(f\"E_g={Eg} eV\")"
   ]
  },
  {
   "attachments": {},
   "cell_type": "markdown",
   "metadata": {},
   "source": [
    "We obtain an energy gap of $E_{g}=2.4$ $eV$."
   ]
  },
  {
   "attachments": {},
   "cell_type": "markdown",
   "metadata": {},
   "source": [
    "### Derivative Method"
   ]
  },
  {
   "attachments": {},
   "cell_type": "markdown",
   "metadata": {},
   "source": [
    "This method will be applied to the transmittances of the samples. When the transmittances don't vary enough in certain intervals of wavelength, the derivative $\\frac{dT}{d\\lambda}$ will be 0 approximately and it will be big when the transmittances have considerable variations in other intervals. In the maximum of $\\frac{dT}{d\\lambda}$ the value of the energy gap will be located.  \n",
    "  \n",
    "We will use numpy to perform this method. "
   ]
  },
  {
   "cell_type": "code",
   "execution_count": 15,
   "metadata": {},
   "outputs": [
    {
     "data": {
      "text/html": [
       "<div>\n",
       "<style scoped>\n",
       "    .dataframe tbody tr th:only-of-type {\n",
       "        vertical-align: middle;\n",
       "    }\n",
       "\n",
       "    .dataframe tbody tr th {\n",
       "        vertical-align: top;\n",
       "    }\n",
       "\n",
       "    .dataframe thead th {\n",
       "        text-align: right;\n",
       "    }\n",
       "</style>\n",
       "<table border=\"1\" class=\"dataframe\">\n",
       "  <thead>\n",
       "    <tr style=\"text-align: right;\">\n",
       "      <th></th>\n",
       "      <th>Wavelength (nm)</th>\n",
       "      <th>Transmittance (%)</th>\n",
       "      <th>Sample</th>\n",
       "      <th>derivative (a.u.)</th>\n",
       "    </tr>\n",
       "  </thead>\n",
       "  <tbody>\n",
       "    <tr>\n",
       "      <th>0</th>\n",
       "      <td>380.016</td>\n",
       "      <td>24.30456</td>\n",
       "      <td>60 nm</td>\n",
       "      <td>0.339578</td>\n",
       "    </tr>\n",
       "    <tr>\n",
       "      <th>1</th>\n",
       "      <td>382.007</td>\n",
       "      <td>24.98066</td>\n",
       "      <td>60 nm</td>\n",
       "      <td>0.339578</td>\n",
       "    </tr>\n",
       "    <tr>\n",
       "      <th>2</th>\n",
       "      <td>383.998</td>\n",
       "      <td>25.62613</td>\n",
       "      <td>60 nm</td>\n",
       "      <td>0.324194</td>\n",
       "    </tr>\n",
       "    <tr>\n",
       "      <th>3</th>\n",
       "      <td>385.988</td>\n",
       "      <td>26.22389</td>\n",
       "      <td>60 nm</td>\n",
       "      <td>0.300382</td>\n",
       "    </tr>\n",
       "    <tr>\n",
       "      <th>4</th>\n",
       "      <td>388.014</td>\n",
       "      <td>26.80113</td>\n",
       "      <td>60 nm</td>\n",
       "      <td>0.284916</td>\n",
       "    </tr>\n",
       "    <tr>\n",
       "      <th>...</th>\n",
       "      <td>...</td>\n",
       "      <td>...</td>\n",
       "      <td>...</td>\n",
       "      <td>...</td>\n",
       "    </tr>\n",
       "    <tr>\n",
       "      <th>356</th>\n",
       "      <td>1092.006</td>\n",
       "      <td>72.30723</td>\n",
       "      <td>110 nm</td>\n",
       "      <td>-0.039170</td>\n",
       "    </tr>\n",
       "    <tr>\n",
       "      <th>357</th>\n",
       "      <td>1094.003</td>\n",
       "      <td>72.34763</td>\n",
       "      <td>110 nm</td>\n",
       "      <td>0.020230</td>\n",
       "    </tr>\n",
       "    <tr>\n",
       "      <th>358</th>\n",
       "      <td>1095.998</td>\n",
       "      <td>72.40607</td>\n",
       "      <td>110 nm</td>\n",
       "      <td>0.029293</td>\n",
       "    </tr>\n",
       "    <tr>\n",
       "      <th>359</th>\n",
       "      <td>1097.989</td>\n",
       "      <td>72.33378</td>\n",
       "      <td>110 nm</td>\n",
       "      <td>-0.036308</td>\n",
       "    </tr>\n",
       "    <tr>\n",
       "      <th>360</th>\n",
       "      <td>1100.006</td>\n",
       "      <td>72.31930</td>\n",
       "      <td>110 nm</td>\n",
       "      <td>-0.007179</td>\n",
       "    </tr>\n",
       "  </tbody>\n",
       "</table>\n",
       "<p>722 rows × 4 columns</p>\n",
       "</div>"
      ],
      "text/plain": [
       "     Wavelength (nm)  Transmittance (%)  Sample  derivative (a.u.)\n",
       "0            380.016           24.30456   60 nm           0.339578\n",
       "1            382.007           24.98066   60 nm           0.339578\n",
       "2            383.998           25.62613   60 nm           0.324194\n",
       "3            385.988           26.22389   60 nm           0.300382\n",
       "4            388.014           26.80113   60 nm           0.284916\n",
       "..               ...                ...     ...                ...\n",
       "356         1092.006           72.30723  110 nm          -0.039170\n",
       "357         1094.003           72.34763  110 nm           0.020230\n",
       "358         1095.998           72.40607  110 nm           0.029293\n",
       "359         1097.989           72.33378  110 nm          -0.036308\n",
       "360         1100.006           72.31930  110 nm          -0.007179\n",
       "\n",
       "[722 rows x 4 columns]"
      ]
     },
     "execution_count": 15,
     "metadata": {},
     "output_type": "execute_result"
    }
   ],
   "source": [
    "# Let's start by separating the samples\n",
    "samples = df[\"Sample\"].unique().tolist()\n",
    "\n",
    "dT_dw = {}\n",
    "for sample in samples:\n",
    "    w = df[df[\"Sample\"] == sample][\"Wavelength (nm)\"].to_numpy()\n",
    "    t = df[df[\"Sample\"] == sample][\"Transmittance (%)\"].to_numpy()\n",
    "    dT_dw[sample] = np.diff(t, prepend=t[1]) / np.diff(w, prepend=w[1])\n",
    "\n",
    "df[\"derivative (a.u.)\"] = np.concatenate((dT_dw[\"60 nm\"], dT_dw[\"110 nm\"]))\n",
    "df"
   ]
  },
  {
   "attachments": {},
   "cell_type": "markdown",
   "metadata": {},
   "source": [
    "#### Using pandas to calculate the energy gaps"
   ]
  },
  {
   "cell_type": "code",
   "execution_count": 16,
   "metadata": {},
   "outputs": [
    {
     "name": "stdout",
     "output_type": "stream",
     "text": [
      "For the sample of 60 nm we have an energy gap of E_g=2.45 eV.\n"
     ]
    }
   ],
   "source": [
    "# For the sample of 60 nm\n",
    "max_60 = df[df[\"Sample\"] == \"60 nm\"][\"derivative (a.u.)\"].max()\n",
    "max_wave60 = df.loc[df[\"derivative (a.u.)\"] == max_60]\n",
    "E_g_60 = round(float(1240 / max_wave60[\"Wavelength (nm)\"]), 2)\n",
    "print(f\"For the sample of 60 nm we have an energy gap of E_g={E_g_60} eV.\")"
   ]
  },
  {
   "cell_type": "code",
   "execution_count": 17,
   "metadata": {},
   "outputs": [
    {
     "name": "stdout",
     "output_type": "stream",
     "text": [
      "For the sample of 110 nm we have an energy gap of E_g=2.42 eV.\n"
     ]
    }
   ],
   "source": [
    "# For the sample of 110 nm\n",
    "max_110 = df[df[\"Sample\"] == \"110 nm\"][\"derivative (a.u.)\"].max()\n",
    "max_wave110 = df.loc[df[\"derivative (a.u.)\"] == max_110]\n",
    "E_g_110 = round(float(1240 / max_wave110[\"Wavelength (nm)\"]), 2)\n",
    "print(f\"For the sample of 110 nm we have an energy gap of E_g={E_g_110} eV.\")"
   ]
  },
  {
   "cell_type": "code",
   "execution_count": 18,
   "metadata": {},
   "outputs": [
    {
     "data": {
      "image/png": "[encoded data removed]",
      "text/plain": [
       "<Figure size 1000x1000 with 1 Axes>"
      ]
     },
     "metadata": {},
     "output_type": "display_data"
    }
   ],
   "source": [
    "fig_4, ax = plt.subplots(figsize=(10, 10))\n",
    "eng_p = sns.lineplot(\n",
    "    data=df,\n",
    "    x=df[\"Wavelength (nm)\"],\n",
    "    y=df[\"derivative (a.u.)\"],\n",
    "    hue=\"Sample\"\n",
    ")\n",
    "\n",
    "plt.title(\"Fig. 4: Derivative of the transmittance spectra vs. wavelength of two CdS samples of different thickness (Seaborn)\")\n",
    "plt.show()"
   ]
  },
  {
   "attachments": {},
   "cell_type": "markdown",
   "metadata": {},
   "source": [
    "As we see in the graph, we can only take the interval that goes from $400$ $nm$ to $600$ $nm$."
   ]
  },
  {
   "cell_type": "code",
   "execution_count": 19,
   "metadata": {},
   "outputs": [
    {
     "data": {
      "image/png": "[encoded data removed]",
      "text/plain": [
       "<Figure size 1000x1000 with 1 Axes>"
      ]
     },
     "metadata": {},
     "output_type": "display_data"
    }
   ],
   "source": [
    "fig_4_1, ax = plt.subplots(figsize=(10, 10))\n",
    "eng_p = sns.lineplot(\n",
    "    data=df,\n",
    "    x=df[\"Wavelength (nm)\"],\n",
    "    y=df[\"derivative (a.u.)\"],\n",
    "    hue=\"Sample\"\n",
    ")\n",
    "\n",
    "# Locating the maximum of the sample of 60 nm\n",
    "plt.annotate(\n",
    "    \"\", xy=(max_wave60['Wavelength (nm)'], 0), xycoords=\"data\",\n",
    "    xytext=(max_wave60['Wavelength (nm)'], max_60), textcoords=\"data\",\n",
    "    arrowprops=dict(arrowstyle=\"-\", connectionstyle=\"arc3,rad=0.\")\n",
    ")\n",
    "\n",
    "plt.annotate(\n",
    "    f\"{round(float(max_wave60['Wavelength (nm)']), 2)} nm\",\n",
    "    xy=(max_wave60[\"Wavelength (nm)\"], max_60),\n",
    "    xycoords=\"data\", xytext=(555, max_60), textcoords=\"data\",\n",
    "    arrowprops=dict(arrowstyle=\"wedge\", connectionstyle=\"arc3,rad=0.\")\n",
    ")\n",
    "\n",
    "# Locating the maximum of the sample of 110 nm\n",
    "plt.annotate(\n",
    "    \"\", xy=(max_wave110['Wavelength (nm)'], 0), xycoords=\"data\",\n",
    "    xytext=(max_wave110['Wavelength (nm)'], max_110), textcoords=\"data\",\n",
    "    arrowprops=dict(arrowstyle=\"-\", connectionstyle=\"arc3,rad=0.\")\n",
    ")\n",
    "\n",
    "plt.annotate(\n",
    "    f\"{round(float(max_wave110['Wavelength (nm)']), 2)} nm\",\n",
    "    xy=(max_wave110[\"Wavelength (nm)\"], max_110),\n",
    "    xycoords=\"data\", xytext=(540, max_110), textcoords=\"data\",\n",
    "    arrowprops=dict(arrowstyle=\"wedge\", connectionstyle=\"arc3,rad=0.\")\n",
    ")\n",
    "\n",
    "# Modifying axes and title\n",
    "plt.xlim(400, 600)\n",
    "plt.ylim(0, 0.89)\n",
    "plt.title(\"Fig. 4.1: Derivative of the transmittance spectra vs. wavelength from 400 nm to 60 nm\")\n",
    "plt.show()"
   ]
  },
  {
   "attachments": {},
   "cell_type": "markdown",
   "metadata": {},
   "source": [
    "We have an energy gap for the sample of $60$ $nm$ of $E_g=2.45$ $eV$ and $E_g=2.42$ $eV$ for the sample of $110$ $nm$."
   ]
  },
  {
   "attachments": {},
   "cell_type": "markdown",
   "metadata": {},
   "source": [
    "#### Using Plotly to locate the energy gaps"
   ]
  },
  {
   "cell_type": "code",
   "execution_count": 20,
   "metadata": {},
   "outputs": [
    {
     "data": {
      "application/vnd.plotly.v1+json": {
       "config": {
        "plotlyServerURL": "https://plot.ly"
       },
       "data": [
        {
         "hovertemplate": "Sample=60 nm<br>Wavelength (nm)=%{x}<br>derivative (a.u.)=%{y}<extra></extra>",
         "legendgroup": "60 nm",
         "line": {
          "color": "#636efa",
          "dash": "solid"
         },
         "marker": {
          "symbol": "circle"
         },
         "mode": "lines+markers",
         "name": "60 nm",
         "orientation": "v",
         "showlegend": true,
         "type": "scatter",
         "x": [
          380.016,
          382.007,
          383.998,
          385.988,
          388.014,
          390.003,
          391.991,
          394.016,
          396.003,
          397.989,
          400.012,
          401.997,
          404.018,
          406.002,
          407.985,
          410.004,
          411.986,
          414.004,
          415.985,
          418.001,
          420.017,
          421.996,
          424.01,
          425.988,
          428.001,
          430.013,
          431.988,
          433.999,
          436.01,
          437.983,
          439.992,
          442,
          444.007,
          446.014,
          447.983,
          449.989,
          451.993,
          453.997,
          456,
          458.002,
          460.004,
          462.005,
          464.005,
          466.004,
          468.003,
          470,
          471.997,
          473.994,
          475.989,
          477.984,
          480.014,
          482.007,
          483.999,
          485.991,
          488.018,
          490.007,
          491.997,
          493.985,
          496.008,
          497.995,
          500.017,
          502.002,
          503.986,
          506.006,
          507.988,
          510.006,
          511.986,
          514.002,
          516.017,
          517.996,
          520.009,
          521.986,
          523.997,
          526.008,
          528.018,
          529.991,
          531.999,
          534.006,
          536.012,
          538.018,
          539.986,
          541.99,
          543.992,
          545.994,
          547.995,
          549.994,
          551.993,
          553.991,
          555.988,
          557.984,
          560.015,
          562.009,
          564.002,
          565.994,
          567.986,
          570.011,
          572.001,
          573.989,
          576.012,
          577.998,
          579.984,
          582.004,
          583.987,
          586.005,
          587.986,
          590.002,
          592.017,
          593.995,
          596.008,
          597.984,
          599.994,
          602.004,
          604.012,
          605.984,
          607.991,
          609.996,
          612,
          614.003,
          616.005,
          618.006,
          620.006,
          622.005,
          624.003,
          625.999,
          627.995,
          629.989,
          632.017,
          634.009,
          636,
          637.99,
          640.014,
          642.001,
          643.988,
          646.008,
          647.992,
          650.01,
          651.992,
          654.008,
          655.987,
          658,
          660.012,
          661.988,
          663.998,
          666.006,
          668.013,
          669.985,
          671.989,
          673.993,
          675.995,
          677.996,
          679.996,
          681.994,
          683.992,
          685.988,
          688.017,
          690.01,
          692.003,
          693.994,
          695.983,
          698.006,
          699.994,
          702.014,
          703.998,
          706.016,
          707.998,
          710.013,
          711.992,
          714.004,
          716.015,
          717.99,
          719.999,
          722.006,
          724.011,
          726.015,
          727.984,
          729.985,
          731.985,
          733.984,
          736.015,
          738.011,
          740.005,
          741.998,
          743.99,
          746.014,
          748.003,
          749.99,
          752.01,
          753.994,
          756.011,
          757.993,
          760.007,
          761.985,
          763.996,
          766.006,
          768.013,
          769.986,
          771.991,
          773.995,
          775.997,
          777.997,
          779.996,
          781.993,
          783.989,
          786.016,
          788.009,
          790,
          791.99,
          794.011,
          795.998,
          798.016,
          799.999,
          802.014,
          803.994,
          806.006,
          808.016,
          809.991,
          811.998,
          814.003,
          816.007,
          818.009,
          820.009,
          822.008,
          824.005,
          826,
          827.993,
          829.985,
          832.008,
          833.997,
          836.016,
          838.001,
          839.985,
          841.999,
          844.011,
          845.99,
          847.999,
          850.006,
          852.011,
          854.015,
          855.985,
          857.985,
          860.015,
          862.012,
          864.007,
          866,
          867.991,
          870.012,
          872,
          873.986,
          876.001,
          878.015,
          879.996,
          882.006,
          884.014,
          885.989,
          887.993,
          889.996,
          891.997,
          893.995,
          895.992,
          897.987,
          900.012,
          902.003,
          903.992,
          906.011,
          907.996,
          910.011,
          911.992,
          914.003,
          916.012,
          917.987,
          919.992,
          921.994,
          923.995,
          925.993,
          927.99,
          930.015,
          932.008,
          933.998,
          935.986,
          938.003,
          939.987,
          942,
          944.011,
          945.988,
          947.995,
          949.999,
          952.001,
          954.001,
          955.999,
          957.994,
          959.987,
          962.009,
          963.998,
          965.985,
          968,
          970.012,
          971.992,
          974.001,
          976.007,
          978.01,
          980.011,
          982.01,
          984.007,
          986.001,
          987.993,
          990.013,
          992,
          993.985,
          995.998,
          998.008,
          999.986,
          1001.991,
          1003.994,
          1005.995,
          1007.993,
          1009.988,
          1012.011,
          1014.002,
          1015.99,
          1018.005,
          1019.988,
          1021.999,
          1024.006,
          1026.011,
          1028.014,
          1030.014,
          1032.011,
          1034.006,
          1035.998,
          1037.988,
          1040.004,
          1041.989,
          1044,
          1046.008,
          1048.014,
          1049.987,
          1051.988,
          1054.014,
          1056.009,
          1058,
          1059.99,
          1062.005,
          1063.989,
          1065.998,
          1068.005,
          1070.009,
          1072.011,
          1074.009,
          1076.004,
          1077.997,
          1079.987,
          1082.002,
          1083.986,
          1085.995,
          1088.002,
          1090.005,
          1092.006,
          1094.003,
          1095.998,
          1097.989,
          1100.006
         ],
         "xaxis": "x",
         "y": [
          0.3395781014565578,
          0.3395781014565578,
          0.32419387242591874,
          0.3003819095477378,
          0.2849160908193469,
          0.28154851684263726,
          0.2747032193158966,
          0.26335308641974736,
          0.2664318067438407,
          0.27485397784491455,
          0.27282748393474815,
          0.28124433249370095,
          0.27933201385453216,
          0.2942489919354786,
          0.3038628340897608,
          0.30171867261020524,
          0.3122250252270457,
          0.2927552031714538,
          0.3010903584048471,
          0.2962847222222278,
          0.29295138888888544,
          0.2982971197574563,
          0.28201092353524954,
          0.28047522750252707,
          0.2676900149031326,
          0.24842445328031948,
          0.24312405063290915,
          0.2244405768274453,
          0.21305818000994936,
          0.20351241763811373,
          0.18636635141861363,
          0.16504980079681497,
          0.17066766317887175,
          0.15836073741903334,
          0.14080243778567794,
          0.13657028913260533,
          0.12514970059880026,
          0.12678143712575018,
          0.11632551173240072,
          0.11678821178821037,
          0.11571928071928074,
          0.12179410294852722,
          0.13462499999999977,
          0.13619309654827236,
          0.13782391195598234,
          0.14575363044566633,
          0.1533900851276902,
          0.17179268903354777,
          0.16777944862156047,
          0.2061353383458639,
          0.2182019704433447,
          0.2579829402910212,
          0.27906626506023896,
          0.30944779116466353,
          0.31491859891465396,
          0.35190548014076745,
          0.4052110552763806,
          0.414567404426559,
          0.4380869995056936,
          0.48363361852037645,
          0.4779574678536101,
          0.5257279596977307,
          0.5311088709677464,
          0.5600693069306989,
          0.554712411705341,
          0.5564767096134875,
          0.5468989898989831,
          0.5317658730158834,
          0.509856079404442,
          0.504618494189,
          0.4503527074018832,
          0.4444511886697085,
          0.40497265042267794,
          0.3909050223769151,
          0.3479850746268666,
          0.3215560060821129,
          0.27077689243027747,
          0.23649725959143456,
          0.1822432701894314,
          0.19795613160518044,
          0.15610264227642473,
          0.12757984031935754,
          0.11147352647352715,
          0.09403096903097125,
          0.07550724637681068,
          0.07301650825412735,
          0.07306653326662815,
          0.06936936936937003,
          0.038978467701555455,
          0.04610721442885518,
          0.02259478089611085,
          0.03169508525577138,
          0.00957852483692523,
          0.01468373493976082,
          0.024312248995982493,
          0.04083456790123477,
          0.034492462311558655,
          0.031413480885310145,
          0.027716262975782432,
          0.01477341389727546,
          0.02628902316213624,
          0.01787128712871535,
          0.017554210791726702,
          0.037779980178400216,
          0.01943462897526461,
          0.0328571428571402,
          0.028421836228287718,
          0.03601112234580467,
          0.03940884252359536,
          0.045602226720645615,
          0.04401492537313499,
          0.03801990049751203,
          0.031135458167335008,
          0.044437119675456466,
          0.028151469855506345,
          0.039910224438898065,
          0.03185129740519433,
          0.04319021467797705,
          0.06668331668331724,
          0.04577711144427824,
          0.04598500000000172,
          0.03632316158078867,
          0.03874374374374304,
          0.03981963927855938,
          0.04844188376753317,
          0.05413239719157359,
          0.05514299802761872,
          0.056390562248997085,
          0.058427925665490495,
          0.049904522613066445,
          0.038883399209485046,
          0.06046300956215822,
          0.05841972823351382,
          0.05612376237623976,
          0.06822580645161123,
          0.0818880079286412,
          0.0730827447023246,
          0.0837301587301578,
          0.06484588175846176,
          0.07889220069547934,
          0.06677932405566833,
          0.07573886639675541,
          0.08961691542288869,
          0.07008964143426254,
          0.07974090682611079,
          0.05318458417849664,
          0.06755988023952082,
          0.061566866267463174,
          0.07845154845155096,
          0.056501749125440134,
          0.0558550000000011,
          0.04492992992992249,
          0.0304054054054129,
          0.05005010020039392,
          0.04982257269590903,
          0.054691419969900776,
          0.031159056698444213,
          0.0324208940231027,
          0.04405731523378264,
          0.02745921898171537,
          0.03581488933601024,
          0.03457425742574251,
          0.04858366935483756,
          0.04671456888008557,
          0.030438950554990293,
          0.04047146401985492,
          0.049338049519960556,
          0.0264960238568562,
          -0.0010591745400268546,
          -0.00033924050632885903,
          -0.00013937282230144782,
          0.020876930742401274,
          0.020812967581048007,
          0.0034880239520966873,
          0.023199593702388624,
          -0.0016991504247872173,
          0.014419999999994104,
          0.029849924962486497,
          -0.01649433776465016,
          -0.032009018036072784,
          -0.02105817452356962,
          -0.006778725539385965,
          -0.0038403614457894154,
          -0.011837944664025792,
          -0.004977375565611681,
          -0.002586814292902539,
          0.006227722772277192,
          -0.0029586693548394587,
          -0.01125433812593013,
          -0.034747729566095384,
          -0.01618172790466767,
          -0.029666329625881425,
          -0.025842864246649548,
          -0.0023383084577113062,
          -0.0352366716492238,
          -0.010243284338573888,
          -0.03806483790523475,
          0.01075349301397437,
          0.02695304695304227,
          -0.0008699999999990382,
          -0.039229614807400316,
          -0.011256885327992395,
          -0.04787074148296785,
          -0.007893438579176954,
          -0.018966382338185293,
          -0.03338523355097733,
          -0.04943718592965098,
          -0.05794161306283818,
          -0.05951182687468472,
          -0.05285926660060095,
          -0.011013615733735122,
          -0.028779156327545484,
          -0.03959090909090815,
          -0.05135188866799176,
          -0.014034825870647527,
          -0.035620253164551786,
          -0.020438465371201746,
          -0.06443890274314096,
          -0.04559880239521218,
          -0.02213786213786092,
          -0.008850000000002467,
          0.03305652826413141,
          -0.021867801702557237,
          -0.04700751879699002,
          -0.033602609131959865,
          -0.040602409638558816,
          -0.054048442906568246,
          0.06643539467068776,
          0.049687964338779665,
          0.06845340050377798,
          0.08538810483870765,
          -0.004528301886790344,
          0.012634194831012725,
          0.0731834259727114,
          0.021936286709808173,
          -0.03577478824115493,
          0.016718204488775985,
          -0.0073453093812359364,
          -0.02940101522842383,
          -0.04132000000000602,
          -0.07134482758620732,
          -0.1075663495242887,
          -0.07210526315789481,
          -0.10199698946311443,
          -0.09970366649924677,
          -0.09582384957942226,
          -0.12813380281689526,
          -0.10283987915407838,
          -0.08097766749379401,
          -0.08743793445879065,
          0.042231196365469445,
          0.07083582089552412,
          0.010682270916335217,
          0.02632911392404653,
          -0.02869760479041565,
          -0.08720918622066962,
          -0.04865567216392311,
          0.14956956956956524,
          0.11033049574361986,
          0.12131829573934796,
          0.10528888888889189,
          0.011843294826717388,
          0.025525389643037733,
          0.09394749876176788,
          0.04293198992442919,
          0.035414392059552866,
          -0.048738011105499114,
          -0.011461959224264975,
          0.06387755102040692,
          -0.004511392405063338,
          -0.047157107231919376,
          -0.06629870129869667,
          -0.07799100449775742,
          -0.08872372372371809,
          0.027411116675010776,
          -0.029106172839502877,
          -0.04550928248870841,
          -0.03627135678392095,
          -0.07472837022133182,
          -0.046876549330686995,
          -0.004637096774197246,
          0.15548931942374425,
          -0.016897066136250735,
          -0.0740718259989842,
          -0.05521175884404764,
          -0.013318363273454016,
          0.04881118881119475,
          0.03896999999999906,
          -0.020460460460460655,
          -0.04577443609022349,
          -0.0359056698444593,
          0.07317012858555437,
          0.06210658622423345,
          -0.0436134876698522,
          -0.024248138957818917,
          -0.016187872763416288,
          0.004313131313129475,
          0.025594823295168125,
          0.08159521435693005,
          0.0013629555666498346,
          -0.009430284857567636,
          0.010885442721360775,
          -0.018773159739612497,
          -0.04572718154463038,
          -0.03659136546184651,
          0.05162871287129056,
          0.06601912430799624,
          0.022503778337536695,
          0.022523596621954883,
          -0.001656716417913134,
          -0.028452982810921318,
          0.023526184538657596,
          0.09050424363454675,
          0.05026986506746529,
          0.05329329329329443,
          0.039398496240598636,
          0.00735541275333948,
          -0.01939226519337311,
          -0.01911971830985855,
          -0.02898759305210688,
          -0.050358043368635225,
          -0.01716558925907564,
          0.022267065271550278,
          0.014274314214466498,
          -0.006440339490765036,
          -0.009534999999999627,
          -0.031902854281421186,
          -0.019388471177943404,
          0.005903614457829094,
          0.056804020100501264,
          -0.0067956349206354525,
          -0.0949471032745507,
          -0.05182496270512167,
          -0.03372011952191433,
          0.006156530408773049,
          0.057688798783574975,
          -0.001029485257371413,
          -0.05238894373149296,
          -0.0486265664160359,
          -0.05500753390256363,
          -0.05868844221105231,
          -0.028044665012407016,
          0.003820564516124215,
          0.015420607267296833,
          0.021883408071748184,
          0.06009980039920548,
          0.044140859140858996,
          0.028623623623625763,
          0.004406015037596601,
          0.01205218263923284,
          0.020502512562816183,
          0.017419354838710734,
          -0.010171370967739303,
          0.004484818317566082,
          0.005241654210263735,
          -0.02403394907637826,
          -0.016401799100450448,
          0.03073109664496815,
          0.01590977443608889,
          -0.0413360120542462,
          -0.03100644521566527
         ],
         "yaxis": "y"
        },
        {
         "hovertemplate": "Sample=110 nm<br>Wavelength (nm)=%{x}<br>derivative (a.u.)=%{y}<extra></extra>",
         "legendgroup": "110 nm",
         "line": {
          "color": "#EF553B",
          "dash": "solid"
         },
         "marker": {
          "symbol": "circle"
         },
         "mode": "lines+markers",
         "name": "110 nm",
         "orientation": "v",
         "showlegend": true,
         "type": "scatter",
         "x": [
          380.016,
          382.007,
          383.998,
          385.988,
          388.014,
          390.003,
          391.991,
          394.016,
          396.003,
          397.989,
          400.012,
          401.997,
          404.018,
          406.002,
          407.985,
          410.004,
          411.986,
          414.004,
          415.985,
          418.001,
          420.017,
          421.996,
          424.01,
          425.988,
          428.001,
          430.013,
          431.988,
          433.999,
          436.01,
          437.983,
          439.992,
          442,
          444.007,
          446.014,
          447.983,
          449.989,
          451.993,
          453.997,
          456,
          458.002,
          460.004,
          462.005,
          464.005,
          466.004,
          468.003,
          470,
          471.997,
          473.994,
          475.989,
          477.984,
          480.014,
          482.007,
          483.999,
          485.991,
          488.018,
          490.007,
          491.997,
          493.985,
          496.008,
          497.995,
          500.017,
          502.002,
          503.986,
          506.006,
          507.988,
          510.006,
          511.986,
          514.002,
          516.017,
          517.996,
          520.009,
          521.986,
          523.997,
          526.008,
          528.018,
          529.991,
          531.999,
          534.006,
          536.012,
          538.018,
          539.986,
          541.99,
          543.992,
          545.994,
          547.995,
          549.994,
          551.993,
          553.991,
          555.988,
          557.984,
          560.015,
          562.009,
          564.002,
          565.994,
          567.986,
          570.011,
          572.001,
          573.989,
          576.012,
          577.998,
          579.984,
          582.004,
          583.987,
          586.005,
          587.986,
          590.002,
          592.017,
          593.995,
          596.008,
          597.984,
          599.994,
          602.004,
          604.012,
          605.984,
          607.991,
          609.996,
          612,
          614.003,
          616.005,
          618.006,
          620.006,
          622.005,
          624.003,
          625.999,
          627.995,
          629.989,
          632.017,
          634.009,
          636,
          637.99,
          640.014,
          642.001,
          643.988,
          646.008,
          647.992,
          650.01,
          651.992,
          654.008,
          655.987,
          658,
          660.012,
          661.988,
          663.998,
          666.006,
          668.013,
          669.985,
          671.989,
          673.993,
          675.995,
          677.996,
          679.996,
          681.994,
          683.992,
          685.988,
          688.017,
          690.01,
          692.003,
          693.994,
          695.983,
          698.006,
          699.994,
          702.014,
          703.998,
          706.016,
          707.998,
          710.013,
          711.992,
          714.004,
          716.015,
          717.99,
          719.999,
          722.006,
          724.011,
          726.015,
          727.984,
          729.985,
          731.985,
          733.984,
          736.015,
          738.011,
          740.005,
          741.998,
          743.99,
          746.014,
          748.003,
          749.99,
          752.01,
          753.994,
          756.011,
          757.993,
          760.007,
          761.985,
          763.996,
          766.006,
          768.013,
          769.986,
          771.991,
          773.995,
          775.997,
          777.997,
          779.996,
          781.993,
          783.989,
          786.016,
          788.009,
          790,
          791.99,
          794.011,
          795.998,
          798.016,
          799.999,
          802.014,
          803.994,
          806.006,
          808.016,
          809.991,
          811.998,
          814.003,
          816.007,
          818.009,
          820.009,
          822.008,
          824.005,
          826,
          827.993,
          829.985,
          832.008,
          833.997,
          836.016,
          838.001,
          839.985,
          841.999,
          844.011,
          845.99,
          847.999,
          850.006,
          852.011,
          854.015,
          855.985,
          857.985,
          860.015,
          862.012,
          864.007,
          866,
          867.991,
          870.012,
          872,
          873.986,
          876.001,
          878.015,
          879.996,
          882.006,
          884.014,
          885.989,
          887.993,
          889.996,
          891.997,
          893.995,
          895.992,
          897.987,
          900.012,
          902.003,
          903.992,
          906.011,
          907.996,
          910.011,
          911.992,
          914.003,
          916.012,
          917.987,
          919.992,
          921.994,
          923.995,
          925.993,
          927.99,
          930.015,
          932.008,
          933.998,
          935.986,
          938.003,
          939.987,
          942,
          944.011,
          945.988,
          947.995,
          949.999,
          952.001,
          954.001,
          955.999,
          957.994,
          959.987,
          962.009,
          963.998,
          965.985,
          968,
          970.012,
          971.992,
          974.001,
          976.007,
          978.01,
          980.011,
          982.01,
          984.007,
          986.001,
          987.993,
          990.013,
          992,
          993.985,
          995.998,
          998.008,
          999.986,
          1001.991,
          1003.994,
          1005.995,
          1007.993,
          1009.988,
          1012.011,
          1014.002,
          1015.99,
          1018.005,
          1019.988,
          1021.999,
          1024.006,
          1026.011,
          1028.014,
          1030.014,
          1032.011,
          1034.006,
          1035.998,
          1037.988,
          1040.004,
          1041.989,
          1044,
          1046.008,
          1048.014,
          1049.987,
          1051.988,
          1054.014,
          1056.009,
          1058,
          1059.99,
          1062.005,
          1063.989,
          1065.998,
          1068.005,
          1070.009,
          1072.011,
          1074.009,
          1076.004,
          1077.997,
          1079.987,
          1082.002,
          1083.986,
          1085.995,
          1088.002,
          1090.005,
          1092.006,
          1094.003,
          1095.998,
          1097.989,
          1100.006
         ],
         "xaxis": "x",
         "y": [
          0.24046207935710845,
          0.24046207935710845,
          0.23383726770467342,
          0.22079899497487313,
          0.20830207305034434,
          0.2134037204625465,
          0.21197183098591477,
          0.20444938271604648,
          0.21389531957725594,
          0.2148942598187326,
          0.218739495798316,
          0.23251385390428023,
          0.23269668480950628,
          0.24236391129031815,
          0.24971255673222226,
          0.2567112431896972,
          0.2639001009081781,
          0.2628989098116904,
          0.26409389197375155,
          0.2650049603174653,
          0.2675049603174583,
          0.2727084386053584,
          0.2640615690168804,
          0.2700050556117278,
          0.2581520119225058,
          0.25529324055666097,
          0.2519898734177181,
          0.23674291397314448,
          0.224629537543515,
          0.2202736948808904,
          0.20909905425584652,
          0.19184262948207367,
          0.19814648729446943,
          0.18478824115595371,
          0.18772981208735476,
          0.17292622133599364,
          0.16389720558882087,
          0.15787425149700565,
          0.16078881677483733,
          0.15557942057941979,
          0.15591408591408487,
          0.15641179410295195,
          0.16550499999999957,
          0.16392196098048872,
          0.16961480740370286,
          0.1851126690035036,
          0.19769153730595776,
          0.20472709063595498,
          0.21532832080201136,
          0.2661654135338334,
          0.2812068965517201,
          0.3161164074259891,
          0.35382028112449565,
          0.3918273092369567,
          0.4118302910705478,
          0.46505781799898893,
          0.5388793969849218,
          0.5930181086519106,
          0.6260504201680775,
          0.682934071464513,
          0.7075766567754733,
          0.7726146095717823,
          0.8221320564516208,
          0.8252178217821841,
          0.8479465186680006,
          0.844667988107049,
          0.8584696969696896,
          0.81819940476192,
          0.8027791563275015,
          0.7883931278423754,
          0.7135221063089806,
          0.6895548811330388,
          0.6415315763301953,
          0.587513674788637,
          0.5033034825870669,
          0.4539178915357401,
          0.382390438247008,
          0.3274987543597439,
          0.27921236291127294,
          0.24181954137586187,
          0.20516768292683774,
          0.16505489021955277,
          0.10674325674326071,
          0.09796703296702801,
          0.07295852073963696,
          0.06762381190594777,
          0.044867433716860146,
          0.027062062062060882,
          0.0148372558838239,
          0.021743486973950826,
          0.011718365337269752,
          0.006589769307927206,
          0.011545408931259419,
          0.00446787148594211,
          -0.004618473895578788,
          0.030370370370368355,
          0.009336683417085405,
          -0.016488933601610436,
          0.00016806722689493802,
          0.001027190332323121,
          0.007703927492445314,
          0.002658415841583791,
          0.0037821482602156276,
          0.0000594648166478966,
          -0.009050984351334035,
          0.005749007936507156,
          -0.011761786600498255,
          0.014676440849346103,
          0.00274714356681225,
          0.00859817813765534,
          0.004039800995020428,
          0.032129353233834236,
          0.021364541832671644,
          0.03214503042596109,
          0.008146487294470938,
          0.0187431421446341,
          0.01588323353293366,
          0.01508237643534503,
          0.023161838161843824,
          0.023878060969517046,
          0.016354999999997233,
          0.012826413206600981,
          0.030685685685687948,
          0.022965931863726835,
          0.016267535070142215,
          0.02377131394182319,
          0.03458086785010125,
          0.03856927710842788,
          0.02644902059266872,
          0.044708542713569305,
          0.02386857707509917,
          0.06046300956215822,
          0.035485656768996426,
          0.04807920792078739,
          0.05465221774193682,
          0.0725867195242859,
          0.047250252270432926,
          0.0418650793650789,
          0.029343102577060555,
          0.05977148534525108,
          0.03407554671968538,
          0.04517712550606982,
          0.04532338308457597,
          0.04647410358566192,
          0.05330343796710995,
          0.037738336713998094,
          0.026986027944111028,
          0.025254491017966844,
          0.030309690309686402,
          0.03994502748625959,
          0.02590500000000162,
          0.016251251251245533,
          0.00682682682683177,
          0.027725450901802822,
          0.024026614095612804,
          0.03646763672854664,
          0.009864525840442185,
          0.029482672024109584,
          0.03079436902966497,
          0.02169055857637219,
          0.03208249496981507,
          0.03866336633663712,
          0.03736391129032021,
          0.036630327056493654,
          0.022421796165492835,
          0.04659057071960261,
          0.024567963617989606,
          0.023056660039761954,
          -0.0033615116857284868,
          0.006055696202525378,
          -0.022444001991041077,
          0.0058794220229239314,
          -0.024458852867833013,
          -0.005484031936123953,
          -0.009578466226512527,
          -0.006981509245377634,
          -0.002009999999998513,
          0.007768884442220152,
          -0.03039881831610138,
          -0.028236472945891034,
          -0.0030140421263808006,
          -0.007827395885595414,
          -0.015170682730923942,
          -0.0072628458498047496,
          0.0017295123177464105,
          -0.01627579265224231,
          -0.02626732673266751,
          -0.0012046370967769145,
          -0.028919186911254217,
          -0.05156912209888754,
          -0.03992055610725,
          -0.03843276036400265,
          -0.04429636996519705,
          -0.02757213930348173,
          -0.06000996512207194,
          -0.037283324885961554,
          -0.06748129675810532,
          0.00623752495010116,
          0.002962037962041244,
          -0.016840000000001965,
          -0.06032016008004126,
          -0.03512769153730379,
          -0.04026553106212566,
          -0.018539713862847848,
          -0.01877571500251409,
          -0.051632345554991736,
          -0.055256281407035396,
          -0.04017318159327472,
          -0.061721187720180745,
          -0.05833002973240493,
          -0.023993948562788275,
          -0.009131513647642617,
          -0.043393939393939776,
          -0.046978131212719314,
          -0.009029850746271514,
          -0.02313417721518624,
          -0.01239661185849998,
          -0.037206982543635775,
          -0.04061876247505288,
          -0.013321678321682857,
          -0.01852999999999838,
          0.02199599799900005,
          -0.019649474211320704,
          -0.062090225563907926,
          -0.05256397390867844,
          -0.05930722891566218,
          -0.04715274345031814,
          0.045726495726493725,
          0.04910846953937308,
          0.06302770780856708,
          0.07744959677419316,
          -0.038262164846078764,
          0.0033648111332024062,
          0.06658918645780153,
          0.0075559980089600545,
          -0.027593423019432472,
          0.003930174563591086,
          -0.024735528942109827,
          -0.03211675126903652,
          -0.056629999999998404,
          -0.06691133004926827,
          -0.09024036054080725,
          -0.08754887218045239,
          -0.09245860511790925,
          -0.10575087895530565,
          -0.09513112320633069,
          -0.14050804828973526,
          -0.11784491440080994,
          -0.09884367245657397,
          -0.07687189672293947,
          0.027158001009588872,
          0.06189552238806579,
          0.0011952191235031677,
          0.022172151898734595,
          -0.05215568862275086,
          -0.09837244133799711,
          -0.01461769115442529,
          0.15136136136135672,
          0.08393590385578518,
          0.11197994987468549,
          0.10372839506173431,
          0.0031140130587605963,
          0.02591251885369779,
          0.0820653789004445,
          0.07000503778337348,
          0.03322084367245801,
          -0.06125189298334371,
          -0.00741919443062595,
          0.05858138377302234,
          -0.00038987341772294434,
          -0.058588528678303026,
          -0.09319180819180671,
          -0.10416791604197823,
          -0.07858858858858814,
          0.019739609414125055,
          -0.029683950617288613,
          -0.044084295032609015,
          -0.04608040201005155,
          -0.07956237424547431,
          -0.04245413981160473,
          -0.008497983870965096,
          0.12897665176353554,
          -0.03365489806067183,
          -0.0706272129489077,
          -0.04501743896362888,
          0.0009780439121811603,
          0.049540459540455634,
          0.02324000000000126,
          -0.02719719719719469,
          -0.04604511278195325,
          -0.04964877069744363,
          0.07401582591493258,
          0.06336349924585119,
          -0.052184197282336205,
          -0.052109181141441537,
          -0.03638170974155168,
          0.008414141414142182,
          0.022573419611746533,
          0.07017447657029181,
          -0.018212680978530515,
          0.0028135932033965705,
          0.01014507253626783,
          -0.021607411116674042,
          -0.06363089267803314,
          -0.03044678714859093,
          0.058341584158411425,
          0.07521389028686672,
          0.04556171284634778,
          0.05526080476899814,
          0.00879104477612423,
          -0.0425379170879712,
          0.02296758104737857,
          0.09936595107339158,
          0.06362318840579499,
          0.05084084084083886,
          0.0371729323308301,
          -0.0009589718240261005,
          -0.029136112506276405,
          -0.02797786720322087,
          -0.03479404466501248,
          -0.05523953605647613,
          -0.0030134261561437893,
          0.028769307424019876,
          0.02180548628428723,
          0.017828257613584652,
          -0.0075649999999996,
          -0.03550826239359514,
          -0.02681203007518462,
          0.024994979919679975,
          0.06884924623115729,
          0.00045138888888416993,
          -0.060443324937022924,
          -0.03965191447041389,
          -0.03998505976095087,
          0.010867397806580496,
          0.0693056259503246,
          0.015867066466760896,
          -0.032665350444222016,
          -0.037598997493735124,
          -0.05452034153691347,
          -0.04794472361809079,
          -0.0031761786600491204,
          0.023321572580642384,
          0.038870084619214804,
          0.046537120079720835,
          0.06397704590818451,
          0.042977022977022494,
          0.03285285285285303,
          0.013057644110275355,
          -0.011525338685398352,
          0.001527638190954063,
          0.0011712158808984024,
          -0.005514112903227936,
          -0.0001393728223014636,
          -0.004778276033875619,
          -0.01827259111333211,
          -0.039170414792602,
          0.02023034551827455,
          0.02929323308270728,
          -0.03630838774484974,
          -0.0071789786812125255
         ],
         "yaxis": "y"
        }
       ],
       "layout": {
        "legend": {
         "title": {
          "text": "Sample"
         },
         "tracegroupgap": 0
        },
        "template": {
         "data": {
          "bar": [
           {
            "error_x": {
             "color": "#2a3f5f"
            },
            "error_y": {
             "color": "#2a3f5f"
            },
            "marker": {
             "line": {
              "color": "#E5ECF6",
              "width": 0.5
             },
             "pattern": {
              "fillmode": "overlay",
              "size": 10,
              "solidity": 0.2
             }
            },
            "type": "bar"
           }
          ],
          "barpolar": [
           {
            "marker": {
             "line": {
              "color": "#E5ECF6",
              "width": 0.5
             },
             "pattern": {
              "fillmode": "overlay",
              "size": 10,
              "solidity": 0.2
             }
            },
            "type": "barpolar"
           }
          ],
          "carpet": [
           {
            "aaxis": {
             "endlinecolor": "#2a3f5f",
             "gridcolor": "white",
             "linecolor": "white",
             "minorgridcolor": "white",
             "startlinecolor": "#2a3f5f"
            },
            "baxis": {
             "endlinecolor": "#2a3f5f",
             "gridcolor": "white",
             "linecolor": "white",
             "minorgridcolor": "white",
             "startlinecolor": "#2a3f5f"
            },
            "type": "carpet"
           }
          ],
          "choropleth": [
           {
            "colorbar": {
             "outlinewidth": 0,
             "ticks": ""
            },
            "type": "choropleth"
           }
          ],
          "contour": [
           {
            "colorbar": {
             "outlinewidth": 0,
             "ticks": ""
            },
            "colorscale": [
             [
              0,
              "#0d0887"
             ],
             [
              0.1111111111111111,
              "#46039f"
             ],
             [
              0.2222222222222222,
              "#7201a8"
             ],
             [
              0.3333333333333333,
              "#9c179e"
             ],
             [
              0.4444444444444444,
              "#bd3786"
             ],
             [
              0.5555555555555556,
              "#d8576b"
             ],
             [
              0.6666666666666666,
              "#ed7953"
             ],
             [
              0.7777777777777778,
              "#fb9f3a"
             ],
             [
              0.8888888888888888,
              "#fdca26"
             ],
             [
              1,
              "#f0f921"
             ]
            ],
            "type": "contour"
           }
          ],
          "contourcarpet": [
           {
            "colorbar": {
             "outlinewidth": 0,
             "ticks": ""
            },
            "type": "contourcarpet"
           }
          ],
          "heatmap": [
           {
            "colorbar": {
             "outlinewidth": 0,
             "ticks": ""
            },
            "colorscale": [
             [
              0,
              "#0d0887"
             ],
             [
              0.1111111111111111,
              "#46039f"
             ],
             [
              0.2222222222222222,
              "#7201a8"
             ],
             [
              0.3333333333333333,
              "#9c179e"
             ],
             [
              0.4444444444444444,
              "#bd3786"
             ],
             [
              0.5555555555555556,
              "#d8576b"
             ],
             [
              0.6666666666666666,
              "#ed7953"
             ],
             [
              0.7777777777777778,
              "#fb9f3a"
             ],
             [
              0.8888888888888888,
              "#fdca26"
             ],
             [
              1,
              "#f0f921"
             ]
            ],
            "type": "heatmap"
           }
          ],
          "heatmapgl": [
           {
            "colorbar": {
             "outlinewidth": 0,
             "ticks": ""
            },
            "colorscale": [
             [
              0,
              "#0d0887"
             ],
             [
              0.1111111111111111,
              "#46039f"
             ],
             [
              0.2222222222222222,
              "#7201a8"
             ],
             [
              0.3333333333333333,
              "#9c179e"
             ],
             [
              0.4444444444444444,
              "#bd3786"
             ],
             [
              0.5555555555555556,
              "#d8576b"
             ],
             [
              0.6666666666666666,
              "#ed7953"
             ],
             [
              0.7777777777777778,
              "#fb9f3a"
             ],
             [
              0.8888888888888888,
              "#fdca26"
             ],
             [
              1,
              "#f0f921"
             ]
            ],
            "type": "heatmapgl"
           }
          ],
          "histogram": [
           {
            "marker": {
             "pattern": {
              "fillmode": "overlay",
              "size": 10,
              "solidity": 0.2
             }
            },
            "type": "histogram"
           }
          ],
          "histogram2d": [
           {
            "colorbar": {
             "outlinewidth": 0,
             "ticks": ""
            },
            "colorscale": [
             [
              0,
              "#0d0887"
             ],
             [
              0.1111111111111111,
              "#46039f"
             ],
             [
              0.2222222222222222,
              "#7201a8"
             ],
             [
              0.3333333333333333,
              "#9c179e"
             ],
             [
              0.4444444444444444,
              "#bd3786"
             ],
             [
              0.5555555555555556,
              "#d8576b"
             ],
             [
              0.6666666666666666,
              "#ed7953"
             ],
             [
              0.7777777777777778,
              "#fb9f3a"
             ],
             [
              0.8888888888888888,
              "#fdca26"
             ],
             [
              1,
              "#f0f921"
             ]
            ],
            "type": "histogram2d"
           }
          ],
          "histogram2dcontour": [
           {
            "colorbar": {
             "outlinewidth": 0,
             "ticks": ""
            },
            "colorscale": [
             [
              0,
              "#0d0887"
             ],
             [
              0.1111111111111111,
              "#46039f"
             ],
             [
              0.2222222222222222,
              "#7201a8"
             ],
             [
              0.3333333333333333,
              "#9c179e"
             ],
             [
              0.4444444444444444,
              "#bd3786"
             ],
             [
              0.5555555555555556,
              "#d8576b"
             ],
             [
              0.6666666666666666,
              "#ed7953"
             ],
             [
              0.7777777777777778,
              "#fb9f3a"
             ],
             [
              0.8888888888888888,
              "#fdca26"
             ],
             [
              1,
              "#f0f921"
             ]
            ],
            "type": "histogram2dcontour"
           }
          ],
          "mesh3d": [
           {
            "colorbar": {
             "outlinewidth": 0,
             "ticks": ""
            },
            "type": "mesh3d"
           }
          ],
          "parcoords": [
           {
            "line": {
             "colorbar": {
              "outlinewidth": 0,
              "ticks": ""
             }
            },
            "type": "parcoords"
           }
          ],
          "pie": [
           {
            "automargin": true,
            "type": "pie"
           }
          ],
          "scatter": [
           {
            "fillpattern": {
             "fillmode": "overlay",
             "size": 10,
             "solidity": 0.2
            },
            "type": "scatter"
           }
          ],
          "scatter3d": [
           {
            "line": {
             "colorbar": {
              "outlinewidth": 0,
              "ticks": ""
             }
            },
            "marker": {
             "colorbar": {
              "outlinewidth": 0,
              "ticks": ""
             }
            },
            "type": "scatter3d"
           }
          ],
          "scattercarpet": [
           {
            "marker": {
             "colorbar": {
              "outlinewidth": 0,
              "ticks": ""
             }
            },
            "type": "scattercarpet"
           }
          ],
          "scattergeo": [
           {
            "marker": {
             "colorbar": {
              "outlinewidth": 0,
              "ticks": ""
             }
            },
            "type": "scattergeo"
           }
          ],
          "scattergl": [
           {
            "marker": {
             "colorbar": {
              "outlinewidth": 0,
              "ticks": ""
             }
            },
            "type": "scattergl"
           }
          ],
          "scattermapbox": [
           {
            "marker": {
             "colorbar": {
              "outlinewidth": 0,
              "ticks": ""
             }
            },
            "type": "scattermapbox"
           }
          ],
          "scatterpolar": [
           {
            "marker": {
             "colorbar": {
              "outlinewidth": 0,
              "ticks": ""
             }
            },
            "type": "scatterpolar"
           }
          ],
          "scatterpolargl": [
           {
            "marker": {
             "colorbar": {
              "outlinewidth": 0,
              "ticks": ""
             }
            },
            "type": "scatterpolargl"
           }
          ],
          "scatterternary": [
           {
            "marker": {
             "colorbar": {
              "outlinewidth": 0,
              "ticks": ""
             }
            },
            "type": "scatterternary"
           }
          ],
          "surface": [
           {
            "colorbar": {
             "outlinewidth": 0,
             "ticks": ""
            },
            "colorscale": [
             [
              0,
              "#0d0887"
             ],
             [
              0.1111111111111111,
              "#46039f"
             ],
             [
              0.2222222222222222,
              "#7201a8"
             ],
             [
              0.3333333333333333,
              "#9c179e"
             ],
             [
              0.4444444444444444,
              "#bd3786"
             ],
             [
              0.5555555555555556,
              "#d8576b"
             ],
             [
              0.6666666666666666,
              "#ed7953"
             ],
             [
              0.7777777777777778,
              "#fb9f3a"
             ],
             [
              0.8888888888888888,
              "#fdca26"
             ],
             [
              1,
              "#f0f921"
             ]
            ],
            "type": "surface"
           }
          ],
          "table": [
           {
            "cells": {
             "fill": {
              "color": "#EBF0F8"
             },
             "line": {
              "color": "white"
             }
            },
            "header": {
             "fill": {
              "color": "#C8D4E3"
             },
             "line": {
              "color": "white"
             }
            },
            "type": "table"
           }
          ]
         },
         "layout": {
          "annotationdefaults": {
           "arrowcolor": "#2a3f5f",
           "arrowhead": 0,
           "arrowwidth": 1
          },
          "autotypenumbers": "strict",
          "coloraxis": {
           "colorbar": {
            "outlinewidth": 0,
            "ticks": ""
           }
          },
          "colorscale": {
           "diverging": [
            [
             0,
             "#8e0152"
            ],
            [
             0.1,
             "#c51b7d"
            ],
            [
             0.2,
             "#de77ae"
            ],
            [
             0.3,
             "#f1b6da"
            ],
            [
             0.4,
             "#fde0ef"
            ],
            [
             0.5,
             "#f7f7f7"
            ],
            [
             0.6,
             "#e6f5d0"
            ],
            [
             0.7,
             "#b8e186"
            ],
            [
             0.8,
             "#7fbc41"
            ],
            [
             0.9,
             "#4d9221"
            ],
            [
             1,
             "#276419"
            ]
           ],
           "sequential": [
            [
             0,
             "#0d0887"
            ],
            [
             0.1111111111111111,
             "#46039f"
            ],
            [
             0.2222222222222222,
             "#7201a8"
            ],
            [
             0.3333333333333333,
             "#9c179e"
            ],
            [
             0.4444444444444444,
             "#bd3786"
            ],
            [
             0.5555555555555556,
             "#d8576b"
            ],
            [
             0.6666666666666666,
             "#ed7953"
            ],
            [
             0.7777777777777778,
             "#fb9f3a"
            ],
            [
             0.8888888888888888,
             "#fdca26"
            ],
            [
             1,
             "#f0f921"
            ]
           ],
           "sequentialminus": [
            [
             0,
             "#0d0887"
            ],
            [
             0.1111111111111111,
             "#46039f"
            ],
            [
             0.2222222222222222,
             "#7201a8"
            ],
            [
             0.3333333333333333,
             "#9c179e"
            ],
            [
             0.4444444444444444,
             "#bd3786"
            ],
            [
             0.5555555555555556,
             "#d8576b"
            ],
            [
             0.6666666666666666,
             "#ed7953"
            ],
            [
             0.7777777777777778,
             "#fb9f3a"
            ],
            [
             0.8888888888888888,
             "#fdca26"
            ],
            [
             1,
             "#f0f921"
            ]
           ]
          },
          "colorway": [
           "#636efa",
           "#EF553B",
           "#00cc96",
           "#ab63fa",
           "#FFA15A",
           "#19d3f3",
           "#FF6692",
           "#B6E880",
           "#FF97FF",
           "#FECB52"
          ],
          "font": {
           "color": "#2a3f5f"
          },
          "geo": {
           "bgcolor": "white",
           "lakecolor": "white",
           "landcolor": "#E5ECF6",
           "showlakes": true,
           "showland": true,
           "subunitcolor": "white"
          },
          "hoverlabel": {
           "align": "left"
          },
          "hovermode": "closest",
          "mapbox": {
           "style": "light"
          },
          "paper_bgcolor": "white",
          "plot_bgcolor": "#E5ECF6",
          "polar": {
           "angularaxis": {
            "gridcolor": "white",
            "linecolor": "white",
            "ticks": ""
           },
           "bgcolor": "#E5ECF6",
           "radialaxis": {
            "gridcolor": "white",
            "linecolor": "white",
            "ticks": ""
           }
          },
          "scene": {
           "xaxis": {
            "backgroundcolor": "#E5ECF6",
            "gridcolor": "white",
            "gridwidth": 2,
            "linecolor": "white",
            "showbackground": true,
            "ticks": "",
            "zerolinecolor": "white"
           },
           "yaxis": {
            "backgroundcolor": "#E5ECF6",
            "gridcolor": "white",
            "gridwidth": 2,
            "linecolor": "white",
            "showbackground": true,
            "ticks": "",
            "zerolinecolor": "white"
           },
           "zaxis": {
            "backgroundcolor": "#E5ECF6",
            "gridcolor": "white",
            "gridwidth": 2,
            "linecolor": "white",
            "showbackground": true,
            "ticks": "",
            "zerolinecolor": "white"
           }
          },
          "shapedefaults": {
           "line": {
            "color": "#2a3f5f"
           }
          },
          "ternary": {
           "aaxis": {
            "gridcolor": "white",
            "linecolor": "white",
            "ticks": ""
           },
           "baxis": {
            "gridcolor": "white",
            "linecolor": "white",
            "ticks": ""
           },
           "bgcolor": "#E5ECF6",
           "caxis": {
            "gridcolor": "white",
            "linecolor": "white",
            "ticks": ""
           }
          },
          "title": {
           "x": 0.05
          },
          "xaxis": {
           "automargin": true,
           "gridcolor": "white",
           "linecolor": "white",
           "ticks": "",
           "title": {
            "standoff": 15
           },
           "zerolinecolor": "white",
           "zerolinewidth": 2
          },
          "yaxis": {
           "automargin": true,
           "gridcolor": "white",
           "linecolor": "white",
           "ticks": "",
           "title": {
            "standoff": 15
           },
           "zerolinecolor": "white",
           "zerolinewidth": 2
          }
         }
        },
        "title": {
         "text": "Fig. 4.2: Derivative of the transmittance spectra vs. wavelength for two CdS samples of different thickness (Plotly)",
         "x": 0.5
        },
        "xaxis": {
         "anchor": "y",
         "domain": [
          0,
          1
         ],
         "linecolor": "black",
         "linewidth": 1,
         "mirror": true,
         "title": {
          "text": "Wavelength (nm)"
         }
        },
        "yaxis": {
         "anchor": "x",
         "domain": [
          0,
          1
         ],
         "linecolor": "black",
         "linewidth": 1,
         "mirror": true,
         "title": {
          "text": "derivative (a.u.)"
         }
        }
       }
      }
     },
     "metadata": {},
     "output_type": "display_data"
    }
   ],
   "source": [
    "fig_4_2 = px.line(\n",
    "    df,\n",
    "    x=\"Wavelength (nm)\",\n",
    "    y=\"derivative (a.u.)\",\n",
    "    color=\"Sample\",\n",
    "    markers=True,\n",
    "    title=\"Fig. 4.2: Derivative of the transmittance spectra vs. wavelength for two CdS samples of different thickness (Plotly)\"\n",
    ")\n",
    "\n",
    "fig_4_2.update_layout(title_x=0.5)\n",
    "fig_4_2.update_xaxes(linewidth=1, linecolor=\"black\", mirror=True)\n",
    "fig_4_2.update_yaxes(linewidth=1, linecolor=\"black\", mirror=True)\n",
    "fig_4_2.show()"
   ]
  },
  {
   "attachments": {},
   "cell_type": "markdown",
   "metadata": {},
   "source": [
    "Looking at the region that goes from $400$ $nm$ to $600$ $nm$, we find that the maximum for the sample of $60$ $nm$ is at $506$ $nm$ and for the sample of $110$ $nm$ is at $511.98$ $nm$.  \n",
    "  \n",
    "Using the equation  \n",
    "  \n",
    "$E=\\frac{hc}{\\lambda}$  \n",
    "  \n",
    "to calculate the energy gaps, we obtain $E_{g}=2.45$ $eV$ for the sample of $60$ $nm$ and $E_{g}=2.42$ for the sample of $110$ $nm$."
   ]
  },
  {
   "attachments": {},
   "cell_type": "markdown",
   "metadata": {},
   "source": [
    "## **Conclusion**"
   ]
  },
  {
   "attachments": {},
   "cell_type": "markdown",
   "metadata": {},
   "source": [
    "The transmittance spectra of both samples of CdS of different thickness measured with the spectrophotometer, are very similar, as they are made of the same semiconductor. The thickness will be a factor that will affect the transmittance. It is checked experimentally that the absoprtion coefficient varies when the energy gap is reached, having a greater absorption coefficient for shorter wavelengths, in this case, for wavelengths shorter than $514.52$ $nm$ for the CdS.  \n",
    "\n",
    "The energy gap calculated with the derivative method is greater than the energy gaps calculated with the two samples method; nevertheless, both methods are very accurate. With the two samples method we obtain an energy gap of $2.42$ $eV$ and with the derivative method we obtained an energy gap of $2.45$ $eV$ for the sample of $60$ $nm$ and $2.42$ $eV$ for the sample of $110$ $nm$, this is the reason why the CdS is a very good smeicondctir material to be used in a solar cell."
   ]
  }
 ],
 "metadata": {
  "kernelspec": {
   "display_name": ".env",
   "language": "python",
   "name": "python3"
  },
  "language_info": {
   "codemirror_mode": {
    "name": "ipython",
    "version": 3
   },
   "file_extension": ".py",
   "mimetype": "text/x-python",
   "name": "python",
   "nbconvert_exporter": "python",
   "pygments_lexer": "ipython3",
   "version": "3.10.6"
  },
  "orig_nbformat": 4,
  "vscode": {
   "interpreter": {
    "hash": "18e59eba1cdaea1fb7f27667b83e21fef491e6a20bbc3e59e2763cd7b1bea925"
   }
  }
 },
 "nbformat": 4,
 "nbformat_minor": 2
}
